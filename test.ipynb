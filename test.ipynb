{
 "cells": [
  {
   "cell_type": "code",
   "execution_count": 1,
   "metadata": {},
   "outputs": [
    {
     "name": "stdout",
     "output_type": "stream",
     "text": [
      "Jupyter environment detected. Enabling Open3D WebVisualizer.\n",
      "[Open3D INFO] WebRTC GUI backend enabled.\n",
      "[Open3D INFO] WebRTCWindowSystem: HTTP handshake server disabled.\n"
     ]
    }
   ],
   "source": [
    "import open3d as o3d\n",
    "import numpy as np\n",
    "import matplotlib.pyplot as plt"
   ]
  },
  {
   "cell_type": "code",
   "execution_count": 14,
   "metadata": {},
   "outputs": [
    {
     "name": "stdout",
     "output_type": "stream",
     "text": [
      "->正在加载点云... \n",
      "[Open3D WARNING] GLFW Error: WGL: Failed to make context current: 句柄无效。 \n",
      "[Open3D WARNING] GLFW Error: WGL: Failed to make context current: 句柄无效。 \n",
      "[Open3D WARNING] GLFW Error: WGL: Failed to make context current: 不支持请求的转换操作。 \n",
      "[Open3D WARNING] GLFW Error: WGL: Failed to make context current: 不支持请求的转换操作。 \n",
      "[Open3D WARNING] GLFW Error: WGL: Failed to make context current: 句柄无效。 \n"
     ]
    }
   ],
   "source": [
    "\n",
    "print(\"->正在加载点云... \")\n",
    "pcd = o3d.io.read_point_cloud(\"training_50_classes\\Lille2.ply\",format= 'ply')\n",
    "o3d.visualization.draw_geometries([pcd])"
   ]
  },
  {
   "cell_type": "code",
   "execution_count": 3,
   "metadata": {},
   "outputs": [
    {
     "name": "stdout",
     "output_type": "stream",
     "text": [
      "[[-673.73962402 -625.83459473   42.38851547]\n",
      " [-673.82873535 -625.73248291   42.40692139]\n",
      " [-671.86029053 -622.27850342   36.9738884 ]\n",
      " ...\n",
      " [-769.46075439 -715.39654541   28.40760231]\n",
      " [-769.67773438 -715.75396729   28.40439224]\n",
      " [-769.5355835  -716.04003906   28.40219116]]\n"
     ]
    }
   ],
   "source": [
    "# pcd.colors[[2200,2500], : ] = [0, 0, 1]\n",
    "print(np.asarray(pcd.points))"
   ]
  },
  {
   "cell_type": "code",
   "execution_count": 4,
   "metadata": {},
   "outputs": [
    {
     "name": "stdout",
     "output_type": "stream",
     "text": [
      "->正在RANSAC平面分割...\n",
      "Plane equation: -0.02x + -0.01y + 1.00z + -56.93 = 0\n",
      "PointCloud with 6116612 points.\n",
      "PointCloud with 3462161 points.\n",
      "[Open3D WARNING] GLFW Error: WGL: Failed to make context current: 句柄无效。 \n"
     ]
    }
   ],
   "source": [
    "print(\"->正在RANSAC平面分割...\")\n",
    "distance_threshold = 0.2    # 内点到平面模型的最大距离\n",
    "ransac_n = 3                # 用于拟合平面的采样点数\n",
    "num_iterations = 1000       # 最大迭代次数\n",
    "\n",
    "# 返回模型系数plane_model和内点索引inliers，并赋值\n",
    "plane_model, inliers = pcd.segment_plane(distance_threshold, ransac_n, num_iterations)\n",
    "\n",
    "# 输出平面方程\n",
    "[a, b, c, d] = plane_model\n",
    "print(f\"Plane equation: {a:.2f}x + {  b:.2f}y + {  c:.2f}z + {  d:.2f} = 0\")\n",
    "\n",
    "# 平面内点点云\n",
    "inlier_cloud = pcd.select_by_index(inliers)\n",
    "inlier_cloud.paint_uniform_color([0, 0, 1.0])\n",
    "print(inlier_cloud)\n",
    "\n",
    "# 平面外点点云\n",
    "outlier_cloud = pcd.select_by_index(inliers, invert=True)\n",
    "outlier_cloud.paint_uniform_color([1.0, 0, 0])\n",
    "print(outlier_cloud)\n",
    "\n",
    "# 可视化平面分割结果\n",
    "o3d.visualization.draw_geometries([inlier_cloud,outlier_cloud])"
   ]
  },
  {
   "cell_type": "code",
   "execution_count": 7,
   "metadata": {},
   "outputs": [
    {
     "name": "stdout",
     "output_type": "stream",
     "text": [
      "[Open3D WARNING] GLFW Error: WGL: Failed to make context current: 句柄无效。 \n",
      "[Open3D WARNING] GLFW Error: WGL: Failed to make context current: 不支持请求的转换操作。 \n",
      "[Open3D WARNING] GLFW Error: WGL: Failed to make context current: 不支持请求的转换操作。 \n",
      "[Open3D WARNING] GLFW Error: WGL: Failed to make context current: 不支持请求的转换操作。 \n",
      "[Open3D WARNING] GLFW Error: WGL: Failed to make context current: 句柄无效。 \n"
     ]
    }
   ],
   "source": [
    "# 可视化平面分割结果\n",
    "o3d.visualization.draw_geometries([inlier_cloud])"
   ]
  }
 ],
 "metadata": {
  "kernelspec": {
   "display_name": "Point_Datas",
   "language": "python",
   "name": "python3"
  },
  "language_info": {
   "codemirror_mode": {
    "name": "ipython",
    "version": 3
   },
   "file_extension": ".py",
   "mimetype": "text/x-python",
   "name": "python",
   "nbconvert_exporter": "python",
   "pygments_lexer": "ipython3",
   "version": "3.10.8 | packaged by conda-forge | (main, Nov 22 2022, 08:16:33) [MSC v.1929 64 bit (AMD64)]"
  },
  "orig_nbformat": 4,
  "vscode": {
   "interpreter": {
    "hash": "464648088c00e173b70600e06c85393a3edebab204038748415719ab367f57ba"
   }
  }
 },
 "nbformat": 4,
 "nbformat_minor": 2
}
