{
 "cells": [
  {
   "cell_type": "code",
   "execution_count": 8,
   "metadata": {},
   "outputs": [],
   "source": [
    "import numpy as np\n",
    "import open3d as o3d\n",
    "from tqdm import tqdm"
   ]
  },
  {
   "cell_type": "code",
   "execution_count": 9,
   "metadata": {},
   "outputs": [],
   "source": [
    "datas = o3d.io.read_point_cloud('Line11.ply')\n",
    "xyz = np.asarray(datas.points)"
   ]
  },
  {
   "cell_type": "code",
   "execution_count": 10,
   "metadata": {},
   "outputs": [],
   "source": [
    "def estimate_parameters(pts):\n",
    "        # 最小二乘法估算平面模型\n",
    "        # 只有三个点时，可以直接计算\n",
    "\n",
    "        c = np.mean(pts,axis=0)\n",
    "        l1 = pts[1]-pts[0]\n",
    "        l2 = pts[2]-pts[0]\n",
    "        n = np.cross(l1,l2)\n",
    "        scale = [n[i]**2 for i in range(n.shape[0])]\n",
    "        #print(scale)\n",
    "        n = n/np.sqrt(np.sum(scale))\n",
    "\n",
    "        params = np.hstack((c.reshape(1,-1),n.reshape(1,-1)))[0,:]\n",
    "        return params"
   ]
  },
  {
   "cell_type": "code",
   "execution_count": 15,
   "metadata": {},
   "outputs": [],
   "source": [
    "xyz = xyz[np.lexsort(xyz.T)]\n",
    "Nlrp = 1000\n",
    "LRP = np.average(xyz[:Nlrp,2])\n",
    "Thseeds = 0.1\n",
    "seed = xyz[xyz[:,2] < Thseeds + LRP ]\n",
    "seed_cp = seed\n",
    "for i in range(10):    \n",
    "    params = estimate_parameters(pts=seed_cp)\n",
    "    h = (xyz[:,0]-params[0]) * params[3] + (xyz[:,1]-params[1])* params[4]+((xyz[:,2]-params[2])* params[5])/(np.sqrt(params[3]**2+params[4]**2+params[5]**2))\n",
    "    seed_cp = xyz[h < 0.1]"
   ]
  },
  {
   "cell_type": "code",
   "execution_count": 12,
   "metadata": {},
   "outputs": [
    {
     "name": "stdout",
     "output_type": "stream",
     "text": [
      "[Open3D WARNING] GLFW Error: WGL: Failed to make context current: 不支持请求的转换操作。 \n",
      "[Open3D WARNING] GLFW Error: WGL: Failed to make context current: 句柄无效。 \n"
     ]
    }
   ],
   "source": [
    "pcd = o3d.geometry.PointCloud()\n",
    "pcd.points = o3d.utility.Vector3dVector(seed_cp)\n",
    "o3d.visualization.draw_geometries([pcd])\n",
    "pcd.estimate_normals()"
   ]
  },
  {
   "cell_type": "code",
   "execution_count": 6,
   "metadata": {},
   "outputs": [
    {
     "data": {
      "text/plain": [
       "array([[ 0.78806726, -0.41248379,  0.45695417],\n",
       "       [ 0.78960853, -0.40809106,  0.45823582],\n",
       "       [-0.04916668, -0.05902361,  0.99704506],\n",
       "       ...,\n",
       "       [-0.62502192,  0.75291568,  0.20607178],\n",
       "       [-0.56807341,  0.74923855,  0.34049111],\n",
       "       [-0.54862958,  0.80643911,  0.22059361]])"
      ]
     },
     "execution_count": 6,
     "metadata": {},
     "output_type": "execute_result"
    }
   ],
   "source": [
    "np.asarray(pcd.normals)"
   ]
  },
  {
   "cell_type": "code",
   "execution_count": 7,
   "metadata": {},
   "outputs": [],
   "source": [
    "pcd = o3d.geometry.PointCloud()\n",
    "pcd.points = o3d.utility.Vector3dVector(seed_cp)\n",
    "o3d.visualization.draw_geometries([pcd])"
   ]
  },
  {
   "cell_type": "code",
   "execution_count": null,
   "metadata": {},
   "outputs": [],
   "source": []
  }
 ],
 "metadata": {
  "kernelspec": {
   "display_name": "Point_Datas",
   "language": "python",
   "name": "python3"
  },
  "language_info": {
   "codemirror_mode": {
    "name": "ipython",
    "version": 3
   },
   "file_extension": ".py",
   "mimetype": "text/x-python",
   "name": "python",
   "nbconvert_exporter": "python",
   "pygments_lexer": "ipython3",
   "version": "3.10.8 | packaged by conda-forge | (main, Nov 22 2022, 08:16:33) [MSC v.1929 64 bit (AMD64)]"
  },
  "orig_nbformat": 4,
  "vscode": {
   "interpreter": {
    "hash": "464648088c00e173b70600e06c85393a3edebab204038748415719ab367f57ba"
   }
  }
 },
 "nbformat": 4,
 "nbformat_minor": 2
}
