{
 "cells": [
  {
   "cell_type": "code",
   "execution_count": 1,
   "metadata": {},
   "outputs": [
    {
     "name": "stdout",
     "output_type": "stream",
     "text": [
      "Jupyter environment detected. Enabling Open3D WebVisualizer.\n",
      "[Open3D INFO] WebRTC GUI backend enabled.\n",
      "[Open3D INFO] WebRTCWindowSystem: HTTP handshake server disabled.\n"
     ]
    }
   ],
   "source": [
    "import numpy as np\n",
    "import open3d as o3d\n",
    "from tqdm import tqdm\n",
    "from growing import RegionGrowing1 as reg1\n",
    "from collections import deque"
   ]
  },
  {
   "cell_type": "code",
   "execution_count": 4,
   "metadata": {},
   "outputs": [],
   "source": [
    "datas = o3d.io.read_point_cloud('Point Cloud Data\\Corner.ply')\n",
    "xyz = np.asarray(datas.points)"
   ]
  },
  {
   "cell_type": "code",
   "execution_count": 5,
   "metadata": {},
   "outputs": [],
   "source": [
    "def SVD(points):\n",
    "    # 二维，三维均适用\n",
    "    # 二维直线，三维平面\n",
    "    pts = points.copy()\n",
    "    # 奇异值分解\n",
    "    c = np.mean(pts, axis=0)\n",
    "    A = pts - c # shift the points\n",
    "    A = A.T #3*n\n",
    "    u, s, vh = np.linalg.svd(A, full_matrices=False, compute_uv=True) # A=u*s*vh\n",
    "    normal = u[:,-1]\n",
    "\n",
    "    # 法向量归一化\n",
    "    nlen = np.sqrt(np.dot(normal,normal))\n",
    "    normal = normal / nlen\n",
    "    # normal 是主方向的方向向量 与PCA最小特征值对应的特征向量是垂直关系\n",
    "    # u 每一列是一个方向\n",
    "    # s 是对应的特征值\n",
    "    # c >>> 点的中心\n",
    "    # normal >>> 拟合的方向向量\n",
    "    return u,s,c,normal\n",
    "\n",
    "def estimate_parameters(pts):\n",
    "        # 最小二乘法估算平面模型\n",
    "        # 只有三个点时，可以直接计算\n",
    "\n",
    "        _,_,c,n = SVD(pts)\n",
    "\n",
    "        params = np.hstack((c.reshape(1,-1),n.reshape(1,-1)))[0,:]\n",
    "        return params"
   ]
  },
  {
   "cell_type": "code",
   "execution_count": 6,
   "metadata": {},
   "outputs": [],
   "source": [
    "xyz = xyz[np.lexsort(xyz.T)]\n",
    "Nlrp = 1000\n",
    "LRP = np.average(xyz[:Nlrp,2])\n",
    "Thseeds = 0.1\n",
    "seed = xyz[xyz[:,2] < Thseeds + LRP ]\n",
    "seed_cp = seed\n",
    "for i in range(10):    \n",
    "    params = estimate_parameters(pts=seed_cp)\n",
    "    h = (xyz[:,0]-params[0]) * params[3] + (xyz[:,1]-params[1])* params[4]+((xyz[:,2]-params[2])* params[5])/(np.sqrt(params[3]**2+params[4]**2+params[5]**2))\n",
    "    seed_cp = xyz[h < 0.2]"
   ]
  },
  {
   "cell_type": "code",
   "execution_count": 7,
   "metadata": {},
   "outputs": [],
   "source": [
    "pcd = o3d.geometry.PointCloud()\n",
    "pcd.points = o3d.utility.Vector3dVector(seed_cp)\n",
    "# o3d.visualization.draw_geometries([pcd])\n",
    "pcd.estimate_normals()"
   ]
  },
  {
   "cell_type": "code",
   "execution_count": 8,
   "metadata": {},
   "outputs": [],
   "source": [
    "cure = []\n",
    "neighbour_number = 30"
   ]
  },
  {
   "cell_type": "code",
   "execution_count": 9,
   "metadata": {},
   "outputs": [],
   "source": [
    "def first_seed(pcd,cure):\n",
    "        num_of_pts = len(pcd.points)         # 点云点的个数\n",
    "        pcd.estimate_covariances(o3d.geometry.KDTreeSearchParamKNN(neighbour_number))\n",
    "        cov_mat = pcd.covariances            # 获取每个点的协方差矩阵\n",
    "        cure = np.zeros(num_of_pts)          # 初始化存储每个点曲率的容器\n",
    "        point_curvature_index = np.zeros((num_of_pts, 2))\n",
    "        # 计算每个点的曲率\n",
    "        for i_n in tqdm(range(num_of_pts)):\n",
    "            eignvalue, _ = np.linalg.eig(cov_mat[i_n])  # SVD分解求特征值\n",
    "            idx = eignvalue.argsort()[::-1]\n",
    "            eignvalue = eignvalue[idx]\n",
    "            cure[i_n] = eignvalue[2] / (eignvalue[0] + eignvalue[1] + eignvalue[2])\n",
    "        \n",
    "        cure = np.array(cure)\n",
    "\n",
    "        return cure"
   ]
  },
  {
   "cell_type": "code",
   "execution_count": 10,
   "metadata": {},
   "outputs": [
    {
     "name": "stderr",
     "output_type": "stream",
     "text": [
      "100%|██████████| 110623/110623 [00:04<00:00, 23754.19it/s]\n"
     ]
    }
   ],
   "source": [
    "cure = first_seed(pcd,cure)"
   ]
  },
  {
   "cell_type": "code",
   "execution_count": 11,
   "metadata": {},
   "outputs": [],
   "source": [
    "seed = np.argsort(cure)[0]\n",
    "paves = np.array([seed])\n",
    "theta_threshold = 15\n",
    "cosine_threshold = np.cos(np.deg2rad(theta_threshold))\n",
    "curvature_threshold=0.035\n"
   ]
  },
  {
   "cell_type": "code",
   "execution_count": 12,
   "metadata": {},
   "outputs": [],
   "source": [
    "def find_neighbour_points(cloud,kdtree):\n",
    "    number = len(pcd.points)\n",
    "    \n",
    "    point_neighbours = np.zeros((number, neighbour_number))\n",
    "    for ik in tqdm(range(number)):\n",
    "        [_, idx, _] = kdtree.search_knn_vector_3d(pcd.points[ik], neighbour_number)  # K近邻搜索\n",
    "        point_neighbours[ik, :] = idx\n",
    "    return point_neighbours "
   ]
  },
  {
   "cell_type": "code",
   "execution_count": 13,
   "metadata": {},
   "outputs": [
    {
     "name": "stderr",
     "output_type": "stream",
     "text": [
      "100%|██████████| 110623/110623 [00:02<00:00, 51371.86it/s]\n"
     ]
    }
   ],
   "source": [
    "kdtree = o3d.geometry.KDTreeFlann(pcd)\n",
    "nebor_all = find_neighbour_points(pcd,kdtree)"
   ]
  },
  {
   "cell_type": "code",
   "execution_count": 14,
   "metadata": {},
   "outputs": [],
   "source": [
    "seed = np.array([seed])"
   ]
  },
  {
   "cell_type": "code",
   "execution_count": 15,
   "metadata": {},
   "outputs": [],
   "source": [
    "\n",
    "while len(seed)>0:\n",
    "    seed_now = seed[0]\n",
    "    nebor = nebor_all[seed_now]\n",
    "\n",
    "    nebor = np.asarray(nebor)\n",
    "\n",
    "\n",
    "    nebor_np = nebor[np.isin(nebor,paves,invert=True)]\n",
    "    nebor_new = nebor_np[np.isin(nebor_np,seed,invert=True)]\n",
    "\n",
    "    if len(nebor_new)>0:\n",
    "\n",
    "        curr_seed_normal = pcd.normals[seed_now]       # 当前种子点的法向量\n",
    "        seed_nebor_normal = [pcd.normals[int(i)]  for i in nebor_new]     # 种子点邻域点的法向量\n",
    "        dot_normal = np.fabs(np.dot(seed_nebor_normal, curr_seed_normal))\n",
    "        nebor_new = nebor_new.astype('int64')\n",
    "        cure_now= cure[nebor_new]\n",
    "        a = dot_normal > cosine_threshold\n",
    "        b = cure_now < curvature_threshold\n",
    "        c = a&b\n",
    "\n",
    "\n",
    "\n",
    "        paves_new = nebor_new[c]\n",
    "\n",
    "        paves = np.append(paves,paves_new)\n",
    "        seed = np.append(seed,paves_new)\n",
    "\n",
    "\n",
    "\n",
    "    # for i in nebor_new:\n",
    "    #     curr_seed_normal = pcd.normals[seed_now]       # 当前种子点的法向量\n",
    "    #     seed_nebor_normal = pcd.normals[i]      # 种子点邻域点的法向量\n",
    "    #     dot_normal = np.fabs(np.dot(seed_nebor_normal, curr_seed_normal))\n",
    "\n",
    "    #     if dot_normal > cosine_threshold:\n",
    "    #         cure_now = cure[i]\n",
    "    #         if cure_now < curvature_threshold:\n",
    "    #             paves = np.append(paves,i)\n",
    "    #             seed = np.append(seed,i)\n",
    "\n",
    "\n",
    "\n",
    "\n",
    "    seed = np.delete(seed,[0])\n"
   ]
  },
  {
   "cell_type": "code",
   "execution_count": 16,
   "metadata": {},
   "outputs": [],
   "source": [
    "inliers = list(paves)\n"
   ]
  },
  {
   "cell_type": "code",
   "execution_count": 17,
   "metadata": {},
   "outputs": [
    {
     "name": "stdout",
     "output_type": "stream",
     "text": [
      "[Open3D WARNING] [ViewControl] SetViewPoint() failed because window height and width are not set.\n",
      "[Open3D WARNING] [ViewControl] SetViewPoint() failed because window height and width are not set.\n"
     ]
    }
   ],
   "source": [
    "inlier_cloud = pcd.select_by_index(inliers)\n",
    "inlier_cloud.paint_uniform_color([1.0, 0, 0])\n",
    "outlier_cloud = pcd.select_by_index(inliers, invert=True)\n",
    "outlier_cloud.paint_uniform_color([0,1,0])\n",
    "o3d.visualization.draw_geometries([inlier_cloud,outlier_cloud])\n"
   ]
  },
  {
   "cell_type": "code",
   "execution_count": null,
   "metadata": {},
   "outputs": [],
   "source": []
  }
 ],
 "metadata": {
  "kernelspec": {
   "display_name": "Point_Datas",
   "language": "python",
   "name": "python3"
  },
  "language_info": {
   "codemirror_mode": {
    "name": "ipython",
    "version": 3
   },
   "file_extension": ".py",
   "mimetype": "text/x-python",
   "name": "python",
   "nbconvert_exporter": "python",
   "pygments_lexer": "ipython3",
   "version": "3.10.8"
  },
  "orig_nbformat": 4,
  "vscode": {
   "interpreter": {
    "hash": "464648088c00e173b70600e06c85393a3edebab204038748415719ab367f57ba"
   }
  }
 },
 "nbformat": 4,
 "nbformat_minor": 2
}
