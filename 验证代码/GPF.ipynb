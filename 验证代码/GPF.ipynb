{
 "cells": [
  {
   "cell_type": "code",
   "execution_count": 46,
   "metadata": {},
   "outputs": [],
   "source": [
    "import numpy as np\n",
    "import open3d as o3d\n",
    "from tqdm import tqdm"
   ]
  },
  {
   "cell_type": "code",
   "execution_count": 47,
   "metadata": {},
   "outputs": [],
   "source": [
    "datas = o3d.io.read_point_cloud('Point Cloud Data\\Corner.ply')\n",
    "xyz = np.asarray(datas.points)"
   ]
  },
  {
   "cell_type": "code",
   "execution_count": null,
   "metadata": {},
   "outputs": [],
   "source": [
    "xyz_cp = xyz.copy()\n"
   ]
  },
  {
   "cell_type": "code",
   "execution_count": 48,
   "metadata": {},
   "outputs": [],
   "source": [
    "xyz = xyz[np.lexsort(xyz.T)]"
   ]
  },
  {
   "cell_type": "code",
   "execution_count": 49,
   "metadata": {},
   "outputs": [],
   "source": [
    "Nlrp = 1000\n",
    "LRP = np.average(xyz[:Nlrp,2])"
   ]
  },
  {
   "cell_type": "code",
   "execution_count": 44,
   "metadata": {},
   "outputs": [],
   "source": [
    "Thseeds = 0.1"
   ]
  },
  {
   "cell_type": "code",
   "execution_count": 50,
   "metadata": {},
   "outputs": [],
   "source": [
    "seed = xyz[xyz[:,2] < Thseeds + LRP ]"
   ]
  },
  {
   "cell_type": "code",
   "execution_count": 51,
   "metadata": {},
   "outputs": [],
   "source": [
    "def SVD(points):\n",
    "    # 二维，三维均适用\n",
    "    # 二维直线，三维平面\n",
    "    pts = points.copy()\n",
    "    # 奇异值分解\n",
    "    c = np.mean(pts, axis=0)\n",
    "    A = pts - c # shift the points\n",
    "    A = A.T #3*n\n",
    "    u, s, vh = np.linalg.svd(A, full_matrices=False, compute_uv=True) # A=u*s*vh\n",
    "    normal = u[:,-1]\n",
    "\n",
    "    # 法向量归一化\n",
    "    nlen = np.sqrt(np.dot(normal,normal))\n",
    "    normal = normal / nlen\n",
    "    # normal 是主方向的方向向量 与PCA最小特征值对应的特征向量是垂直关系\n",
    "    # u 每一列是一个方向\n",
    "    # s 是对应的特征值\n",
    "    # c >>> 点的中心\n",
    "    # normal >>> 拟合的方向向量\n",
    "    return u,s,c,normal\n",
    "\n",
    "def estimate_parameters(pts):\n",
    "        # 最小二乘法估算平面模型\n",
    "        # 只有三个点时，可以直接计算\n",
    "\n",
    "        _,_,c,n = SVD(pts)\n",
    "\n",
    "        params = np.hstack((c.reshape(1,-1),n.reshape(1,-1)))[0,:]\n",
    "        return params"
   ]
  },
  {
   "cell_type": "code",
   "execution_count": 52,
   "metadata": {},
   "outputs": [],
   "source": [
    "seed_cp = seed\n",
    "for i in range(10):    \n",
    "    params = estimate_parameters(pts=seed_cp)\n",
    "    h = ((xyz[:,0]-params[0]) * params[3] + (xyz[:,1]-params[1])* params[4]+(xyz[:,2]-params[2])* params[5])/(np.sqrt(params[3]**2+params[4]**2+params[5]**2))\n",
    "    seed_cp = xyz[h < 0.15]"
   ]
  },
  {
   "cell_type": "code",
   "execution_count": 53,
   "metadata": {},
   "outputs": [
    {
     "name": "stdout",
     "output_type": "stream",
     "text": [
      "[Open3D WARNING] GLFW Error: WGL: Failed to make context current: 不支持请求的转换操作。 \n"
     ]
    }
   ],
   "source": [
    "pcd = o3d.geometry.PointCloud()\n",
    "pcd.points = o3d.utility.Vector3dVector(seed_cp)\n",
    "pcd.paint_uniform_color([1,0,0])\n",
    "o3d.visualization.draw_geometries([pcd])"
   ]
  },
  {
   "cell_type": "code",
   "execution_count": 54,
   "metadata": {},
   "outputs": [],
   "source": [
    "o3d.visualization.draw_geometries([datas])"
   ]
  },
  {
   "cell_type": "code",
   "execution_count": null,
   "metadata": {},
   "outputs": [],
   "source": []
  }
 ],
 "metadata": {
  "kernelspec": {
   "display_name": "Point_Datas",
   "language": "python",
   "name": "python3"
  },
  "language_info": {
   "codemirror_mode": {
    "name": "ipython",
    "version": 3
   },
   "file_extension": ".py",
   "mimetype": "text/x-python",
   "name": "python",
   "nbconvert_exporter": "python",
   "pygments_lexer": "ipython3",
   "version": "3.10.8"
  },
  "orig_nbformat": 4,
  "vscode": {
   "interpreter": {
    "hash": "464648088c00e173b70600e06c85393a3edebab204038748415719ab367f57ba"
   }
  }
 },
 "nbformat": 4,
 "nbformat_minor": 2
}
