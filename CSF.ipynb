{
 "cells": [
  {
   "cell_type": "code",
   "execution_count": 1,
   "metadata": {},
   "outputs": [
    {
     "name": "stdout",
     "output_type": "stream",
     "text": [
      "Jupyter environment detected. Enabling Open3D WebVisualizer.\n",
      "[Open3D INFO] WebRTC GUI backend enabled.\n",
      "[Open3D INFO] WebRTCWindowSystem: HTTP handshake server disabled.\n"
     ]
    }
   ],
   "source": [
    "import CSF\n",
    "from plyfile import PlyData,PlyElement\n",
    "import numpy as np\n",
    "from tqdm import tqdm\n",
    "import open3d as o3d"
   ]
  },
  {
   "cell_type": "code",
   "execution_count": 2,
   "metadata": {},
   "outputs": [],
   "source": [
    "datas = o3d.io.read_point_cloud('Line11.ply')\n",
    "xyz = np.asarray(datas.points)"
   ]
  },
  {
   "cell_type": "code",
   "execution_count": 3,
   "metadata": {},
   "outputs": [],
   "source": [
    "csf = CSF.CSF()\n",
    "csf.params.bSloopSmooth = False\n",
    "csf.params.cloth_resolution = 0.5\n",
    "# more details about parameter: http://ramm.bnu.edu.cn/projects/CSF/download/\n",
    "\n",
    "csf.setPointCloud(xyz)\n",
    "ground = CSF.VecInt()  # a list to indicate the index of ground points after calculation\n",
    "non_ground = CSF.VecInt() #"
   ]
  },
  {
   "cell_type": "code",
   "execution_count": 4,
   "metadata": {},
   "outputs": [],
   "source": [
    "csf.do_filtering(ground, non_ground)"
   ]
  },
  {
   "cell_type": "code",
   "execution_count": 5,
   "metadata": {},
   "outputs": [],
   "source": [
    "ground = np.asarray(ground)\n",
    "non_ground = np.asarray(non_ground)"
   ]
  },
  {
   "cell_type": "code",
   "execution_count": 6,
   "metadata": {},
   "outputs": [],
   "source": [
    "paves = datas.select_by_index(ground)\n",
    "non_paves = datas.select_by_index(non_ground)\n",
    "non_paves.paint_uniform_color([1,0,0])\n",
    "o3d.visualization.draw_geometries([paves,non_paves])"
   ]
  },
  {
   "cell_type": "code",
   "execution_count": 7,
   "metadata": {},
   "outputs": [],
   "source": [
    "o3d.visualization.draw_geometries([paves])"
   ]
  },
  {
   "cell_type": "code",
   "execution_count": 8,
   "metadata": {},
   "outputs": [],
   "source": [
    "plane_model, inliers = paves.segment_plane(distance_threshold=0.05,\n",
    "                                         ransac_n=3,\n",
    "                                         num_iterations=1000)\n"
   ]
  },
  {
   "cell_type": "code",
   "execution_count": 9,
   "metadata": {},
   "outputs": [],
   "source": [
    "inlier_cloud = paves.select_by_index(inliers)\n",
    "inlier_cloud.paint_uniform_color([1.0, 0, 0])\n",
    "outlier_cloud = paves.select_by_index(inliers, invert=True)\n",
    "o3d.visualization.draw_geometries([inlier_cloud,outlier_cloud])"
   ]
  },
  {
   "cell_type": "code",
   "execution_count": 11,
   "metadata": {},
   "outputs": [
    {
     "data": {
      "text/plain": [
       "PointCloud with 6357859 points."
      ]
     },
     "execution_count": 11,
     "metadata": {},
     "output_type": "execute_result"
    }
   ],
   "source": [
    "paves"
   ]
  },
  {
   "cell_type": "code",
   "execution_count": null,
   "metadata": {},
   "outputs": [],
   "source": []
  }
 ],
 "metadata": {
  "kernelspec": {
   "display_name": "Point_Datas",
   "language": "python",
   "name": "python3"
  },
  "language_info": {
   "codemirror_mode": {
    "name": "ipython",
    "version": 3
   },
   "file_extension": ".py",
   "mimetype": "text/x-python",
   "name": "python",
   "nbconvert_exporter": "python",
   "pygments_lexer": "ipython3",
   "version": "3.10.8 | packaged by conda-forge | (main, Nov 22 2022, 08:16:33) [MSC v.1929 64 bit (AMD64)]"
  },
  "orig_nbformat": 4,
  "vscode": {
   "interpreter": {
    "hash": "464648088c00e173b70600e06c85393a3edebab204038748415719ab367f57ba"
   }
  }
 },
 "nbformat": 4,
 "nbformat_minor": 2
}
