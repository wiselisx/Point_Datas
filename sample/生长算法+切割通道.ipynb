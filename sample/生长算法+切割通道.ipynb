{
 "cells": [
  {
   "cell_type": "code",
   "execution_count": 1,
   "metadata": {},
   "outputs": [
    {
     "name": "stdout",
     "output_type": "stream",
     "text": [
      "Jupyter environment detected. Enabling Open3D WebVisualizer.\n",
      "[Open3D INFO] WebRTC GUI backend enabled.\n",
      "[Open3D INFO] WebRTCWindowSystem: HTTP handshake server disabled.\n"
     ]
    }
   ],
   "source": [
    "import numpy as np\n",
    "import open3d as o3d\n",
    "from read_datas import ReadDatas"
   ]
  },
  {
   "cell_type": "code",
   "execution_count": 2,
   "metadata": {},
   "outputs": [],
   "source": [
    "path = '..\\Point Cloud Data\\Corner.ply'\n",
    "pcd =  ReadDatas('..\\Point Cloud Data\\Corner.ply')\n",
    "pcd.gpf_ground_extraction()"
   ]
  },
  {
   "cell_type": "code",
   "execution_count": 3,
   "metadata": {},
   "outputs": [],
   "source": [
    "o3d.visualization.draw_geometries([pcd.datas])"
   ]
  },
  {
   "cell_type": "code",
   "execution_count": 4,
   "metadata": {},
   "outputs": [],
   "source": [
    "ground = pcd.np_to_o3d(pcd.ground)"
   ]
  },
  {
   "cell_type": "code",
   "execution_count": 5,
   "metadata": {},
   "outputs": [
    {
     "name": "stdout",
     "output_type": "stream",
     "text": [
      "[Open3D WARNING] GLFW Error: WGL: Failed to make context current: 句柄无效。 \n",
      "[Open3D WARNING] GLFW Error: WGL: Failed to make context current: 不支持请求的转换操作。 \n"
     ]
    }
   ],
   "source": [
    "o3d.visualization.draw_geometries_with_editing([ground])\n"
   ]
  },
  {
   "cell_type": "code",
   "execution_count": 6,
   "metadata": {},
   "outputs": [],
   "source": [
    "def paves_cutting(ground):    \n",
    "    vis = o3d.visualization.VisualizerWithEditing()\n",
    "    vis.create_window(window_name='Open3D', visible=True)\n",
    "    vis.add_geometry(ground)\n",
    "    vis.run()\n",
    "    geometry = vis.get_cropped_geometry()\n",
    "    vis.destroy_window()\n",
    "    geometry = np.asarray(geometry.points)\n",
    "\n",
    "    return geometry"
   ]
  },
  {
   "cell_type": "code",
   "execution_count": 7,
   "metadata": {},
   "outputs": [],
   "source": [
    "def seed_select(ground):    \n",
    "    vis = o3d.visualization.VisualizerWithEditing()\n",
    "    vis.create_window(window_name='Open3D', visible=True)\n",
    "    vis.add_geometry(ground)\n",
    "    vis.run()\n",
    "    seed = vis.get_picked_points()\n",
    "    vis.destroy_window()\n",
    "\n",
    "\n",
    "    return seed"
   ]
  },
  {
   "cell_type": "code",
   "execution_count": 8,
   "metadata": {},
   "outputs": [],
   "source": [
    "def find_index(list1,list2):\n",
    "    index = []\n",
    "    for i in list2:\n",
    "        a = np.argwhere((list1 == i).all(axis=1)).ravel()\n",
    "        if a:\n",
    "            index.append(a[0])\n",
    "    return index"
   ]
  },
  {
   "cell_type": "code",
   "execution_count": 9,
   "metadata": {},
   "outputs": [],
   "source": [
    "def no_paves(ground):\n",
    "    a = True\n",
    "    geometrys = np.zeros((1,3))\n",
    "\n",
    "    while a:\n",
    "        geometry = paves_cutting(ground)\n",
    "        geometrys = np.concatenate((geometrys,geometry),axis=0)\n",
    "        input_1 = input('按Y或者y继续')\n",
    "        if input_1 == 'y' or input_1 == 'Y':\n",
    "            a = True\n",
    "        else:\n",
    "            a = False\n",
    "    return geometrys"
   ]
  },
  {
   "cell_type": "code",
   "execution_count": 10,
   "metadata": {},
   "outputs": [],
   "source": [
    "ground1 = o3d.io.read_point_cloud('cropped_1.ply')\n",
    "ground2 = o3d.io.read_point_cloud('cropped_2.ply')\n",
    "ground3 = o3d.io.read_point_cloud('cropped_3.ply')\n"
   ]
  },
  {
   "cell_type": "code",
   "execution_count": 11,
   "metadata": {},
   "outputs": [],
   "source": [
    "ground_1 = np.asarray(ground1.points)\n",
    "ground_2 = np.asarray(ground2.points)\n",
    "ground_3 = np.asarray(ground3.points)"
   ]
  },
  {
   "cell_type": "code",
   "execution_count": 12,
   "metadata": {},
   "outputs": [],
   "source": [
    "first = pcd.ground"
   ]
  },
  {
   "cell_type": "code",
   "execution_count": 13,
   "metadata": {},
   "outputs": [],
   "source": [
    "\n",
    "seed1= []\n",
    "for i in ground_1:\n",
    "    seed1 += np.where((first == i).all(axis = 1))[0].tolist()"
   ]
  },
  {
   "cell_type": "code",
   "execution_count": 14,
   "metadata": {},
   "outputs": [],
   "source": [
    "for i in ground_2:\n",
    "    seed1 += np.where((first == i).all(axis = 1))[0].tolist()"
   ]
  },
  {
   "cell_type": "code",
   "execution_count": 15,
   "metadata": {},
   "outputs": [],
   "source": [
    "for i in ground_3:\n",
    "    seed1 += np.where((first == i).all(axis = 1))[0].tolist()\n"
   ]
  },
  {
   "cell_type": "code",
   "execution_count": 16,
   "metadata": {},
   "outputs": [],
   "source": [
    "no_pavas = np.array(seed1)"
   ]
  },
  {
   "cell_type": "code",
   "execution_count": 17,
   "metadata": {},
   "outputs": [
    {
     "name": "stdout",
     "output_type": "stream",
     "text": [
      "-----------\n",
      "-----------\n",
      "-----------\n"
     ]
    }
   ],
   "source": [
    "curvity = pcd.curvature_calculation(ground)\n",
    "print('-----------')\n",
    "seed = np.argmin(curvity)\n",
    "seed = np.array([seed])\n",
    "print('-----------')\n",
    "neighbors = pcd.find_neighbour_points(ground)\n",
    "print('-----------')\n"
   ]
  },
  {
   "cell_type": "code",
   "execution_count": 18,
   "metadata": {},
   "outputs": [],
   "source": [
    "seed = seed_select(ground)"
   ]
  },
  {
   "cell_type": "code",
   "execution_count": 19,
   "metadata": {},
   "outputs": [],
   "source": [
    "paves1 = no_paves(ground)\n"
   ]
  },
  {
   "cell_type": "code",
   "execution_count": 20,
   "metadata": {},
   "outputs": [
    {
     "name": "stderr",
     "output_type": "stream",
     "text": [
      "C:\\Users\\master\\AppData\\Local\\Temp\\ipykernel_21560\\3836748341.py:5: DeprecationWarning: The truth value of an empty array is ambiguous. Returning False, but in future this will result in an error. Use `array.size > 0` to check that an array is not empty.\n",
      "  if a:\n"
     ]
    }
   ],
   "source": [
    "\n",
    "no_paves1 = np.array(find_index(pcd.ground,paves1))\n"
   ]
  },
  {
   "cell_type": "code",
   "execution_count": 17,
   "metadata": {},
   "outputs": [],
   "source": [
    "paves = pcd.region_growing_segmentation(seed, clouds = ground,no_paves = no_paves1)"
   ]
  },
  {
   "cell_type": "code",
   "execution_count": null,
   "metadata": {},
   "outputs": [],
   "source": [
    "inliers = list(paves)\n",
    "inlier_cloud = ground.select_by_index(inliers)\n",
    "inlier_cloud.paint_uniform_color([1.0, 0, 0])\n",
    "outlier_cloud = ground.select_by_index(inliers, invert=True)\n",
    "outlier_cloud.paint_uniform_color([0,1,0])\n",
    "o3d.visualization.draw_geometries([inlier_cloud,outlier_cloud])"
   ]
  }
 ],
 "metadata": {
  "kernelspec": {
   "display_name": "Point_Datas",
   "language": "python",
   "name": "python3"
  },
  "language_info": {
   "codemirror_mode": {
    "name": "ipython",
    "version": 3
   },
   "file_extension": ".py",
   "mimetype": "text/x-python",
   "name": "python",
   "nbconvert_exporter": "python",
   "pygments_lexer": "ipython3",
   "version": "3.10.8"
  },
  "orig_nbformat": 4,
  "vscode": {
   "interpreter": {
    "hash": "464648088c00e173b70600e06c85393a3edebab204038748415719ab367f57ba"
   }
  }
 },
 "nbformat": 4,
 "nbformat_minor": 2
}
