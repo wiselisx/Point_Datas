{
 "cells": [
  {
   "cell_type": "code",
   "execution_count": 1,
   "metadata": {},
   "outputs": [
    {
     "name": "stdout",
     "output_type": "stream",
     "text": [
      "Jupyter environment detected. Enabling Open3D WebVisualizer.\n",
      "[Open3D INFO] WebRTC GUI backend enabled.\n",
      "[Open3D INFO] WebRTCWindowSystem: HTTP handshake server disabled.\n"
     ]
    }
   ],
   "source": [
    "import open3d as o3d\n",
    "import numpy as np\n",
    "import sys\n",
    "import open3d.visualization.gui as gui\n"
   ]
  },
  {
   "cell_type": "code",
   "execution_count": 2,
   "metadata": {},
   "outputs": [],
   "source": [
    "sys.path.insert(0,'sample')"
   ]
  },
  {
   "cell_type": "code",
   "execution_count": 3,
   "metadata": {},
   "outputs": [],
   "source": [
    "from read_datas import ReadDatas"
   ]
  },
  {
   "cell_type": "code",
   "execution_count": 4,
   "metadata": {},
   "outputs": [],
   "source": [
    "datas =  ReadDatas('Point Cloud Data\\Corner.ply')"
   ]
  },
  {
   "cell_type": "code",
   "execution_count": 5,
   "metadata": {},
   "outputs": [],
   "source": [
    "o3d.visualization.draw_geometries([datas.datas])\n"
   ]
  },
  {
   "cell_type": "code",
   "execution_count": 6,
   "metadata": {},
   "outputs": [],
   "source": [
    "datas.gpf_ground_extraction()"
   ]
  },
  {
   "cell_type": "code",
   "execution_count": null,
   "metadata": {},
   "outputs": [],
   "source": []
  },
  {
   "cell_type": "code",
   "execution_count": 7,
   "metadata": {},
   "outputs": [],
   "source": [
    "ground = datas.np_to_o3d(datas.ground)\n"
   ]
  },
  {
   "cell_type": "code",
   "execution_count": 9,
   "metadata": {},
   "outputs": [
    {
     "name": "stdout",
     "output_type": "stream",
     "text": [
      "[Open3D INFO] Picked point #15100 (-14., -13., -1.6) to add in queue.\n",
      "[Open3D INFO] Picked point #10521 (-8.4, -13., -1.6) to add in queue.\n",
      "[Open3D INFO] No point has been picked.\n",
      "[Open3D INFO] Picked point #20020 (-4.2, -13., -1.6) to add in queue.\n",
      "[Open3D INFO] Picked point #23001 (-2.6, -12., -1.6) to add in queue.\n",
      "[Open3D INFO] Remove picked point #23001 from pick queue.\n",
      "[Open3D INFO] No point has been picked.\n",
      "[Open3D INFO] Picked point #22127 (-2.8, -13., -1.6) to add in queue.\n",
      "[Open3D INFO] Picked point #39976 (0.52, -11., -1.5) to add in queue.\n",
      "[Open3D INFO] Picked point #60074 (4.3, -8.0, -1.5) to add in queue.\n",
      "[Open3D WARNING] GLFW Error: WGL: Failed to make context current: 句柄无效。 \n",
      "[Open3D INFO] No point has been picked.\n",
      "[Open3D INFO] No point has been picked.\n",
      "[Open3D INFO] No point has been picked.\n",
      "[Open3D INFO] No point has been picked.\n",
      "[Open3D INFO] Picked point #50962 (5.3, -6.0, -1.5) to add in queue.\n",
      "[Open3D WARNING] GLFW Error: WGL: Failed to make context current: 不支持请求的转换操作。 \n",
      "[Open3D INFO] Picked point #69858 (5.2, 5.9, -1.5) to add in queue.\n"
     ]
    }
   ],
   "source": [
    "point = datas.seed_select(ground)"
   ]
  },
  {
   "cell_type": "code",
   "execution_count": 10,
   "metadata": {},
   "outputs": [
    {
     "data": {
      "text/plain": [
       "[15100, 10521, 20020, 22127, 39976, 60074, 50962, 69858]"
      ]
     },
     "execution_count": 10,
     "metadata": {},
     "output_type": "execute_result"
    }
   ],
   "source": [
    "point"
   ]
  },
  {
   "cell_type": "code",
   "execution_count": 31,
   "metadata": {},
   "outputs": [],
   "source": [
    "geometrys = datas.find_no_paves(ground)"
   ]
  },
  {
   "cell_type": "code",
   "execution_count": 12,
   "metadata": {},
   "outputs": [],
   "source": [
    "def calculate_linear_density(ground):\n",
    "    nndist = ground.compute_nearest_neighbor_distance()\n",
    "    nndist = np.array(nndist)\n",
    "    density = np.mean(nndist)\n",
    "    return density\n"
   ]
  },
  {
   "cell_type": "code",
   "execution_count": 14,
   "metadata": {},
   "outputs": [],
   "source": [
    "def driving_path_generation(point,ground):\n",
    "    density = calculate_linear_density(ground)\n",
    "    driving_point = ground.select_by_index(point)\n",
    "    driving_point = np.array(driving_point.points)\n",
    "\n",
    "    ground = ground.select_by_index(point, invert=True)\n",
    "    driving_distance = np.array([np.linalg.norm(driving_point[p] - driving_point[p+1]) for p in range(len(driving_point) - 1 )])\n",
    "    driving_track = np.array([[0,0,0]])\n",
    "\n",
    "    for i,d in enumerate(driving_distance):\n",
    "        num = int(d / density)\n",
    "\n",
    "        driving_track_x = np.linspace(driving_point[i,0],driving_point[i+1,0],num)\n",
    "        driving_track_y = np.linspace(driving_point[i,1],driving_point[i+1,1],num)\n",
    "        driving_track_z = np.linspace(driving_point[i,2],driving_point[i+1,2],num)\n",
    "        new_points = np.array([driving_track_x,driving_track_y,driving_track_z]).T\n",
    "\n",
    "        driving_track = np.concatenate((driving_track,new_points),axis=0)\n",
    "    driving_track = np.delete(driving_track,0,axis=0)\n",
    "    return driving_track\n"
   ]
  },
  {
   "cell_type": "code",
   "execution_count": 15,
   "metadata": {},
   "outputs": [],
   "source": [
    "driving_track = driving_path_generation(point,ground)"
   ]
  },
  {
   "cell_type": "code",
   "execution_count": 16,
   "metadata": {},
   "outputs": [],
   "source": [
    "driving_track_o3d = datas.np_to_o3d(driving_track)\n"
   ]
  },
  {
   "cell_type": "code",
   "execution_count": 17,
   "metadata": {},
   "outputs": [],
   "source": [
    "ground += driving_track_o3d"
   ]
  },
  {
   "cell_type": "code",
   "execution_count": 20,
   "metadata": {},
   "outputs": [],
   "source": [
    "def find_nearest_point(clouds1,clouds2,neighbour_number = 1):\n",
    "\n",
    "    neighbour_number = 1\n",
    "    kdtree = o3d.geometry.KDTreeFlann(clouds1)\n",
    "    number = len(ground.points)\n",
    "\n",
    "    point_neighbours = np.zeros((number, neighbour_number))\n",
    "    for ik in range(number):\n",
    "        [_, point[0], _] = kdtree.search_knn_vector_3d(clouds2.points[ik], neighbour_number)  # K近邻搜索\n",
    "        point_neighbours[ik, :] = point[0]\n",
    "    return point_neighbours\n"
   ]
  },
  {
   "cell_type": "code",
   "execution_count": 21,
   "metadata": {},
   "outputs": [],
   "source": [
    "point_neighbours = find_nearest_point(driving_track_o3d,ground)\n"
   ]
  },
  {
   "cell_type": "code",
   "execution_count": 22,
   "metadata": {},
   "outputs": [],
   "source": []
  },
  {
   "cell_type": "code",
   "execution_count": 2,
   "metadata": {},
   "outputs": [],
   "source": [
    "def driving_path_extraction(ground,driving_track):\n",
    "    ground_np = np.asarray(ground.points)\n",
    "    ground_nom = ground.estimate_normals()\n",
    "    ground_nom = np.asarray(ground.normals)\n",
    "    theta_threshold = 30\n",
    "    cosine_threshold = np.cos(np.deg2rad(theta_threshold))\n",
    "    paves = np.array([[0,0,0]])\n",
    "    for i,p in enumerate(driving_track):\n",
    "        slim = ground_np[point_neighbours[:,0] == i]\n",
    "        if len(slim) > 0:\n",
    "            slim_distance = np.sqrt(np.sum(np.power(slim - driving_track[i,:],2),axis = 1))\n",
    "            p = slim_distance.argmin()\n",
    "            slim_nom = slim - driving_track[i,:]\n",
    "            slim_distance[slim_nom[:,0]/slim_nom[:,1] < 0] = slim_distance[slim_nom[:,0]/slim_nom[:,1] < 0] * -1\n",
    "            slim = slim[slim_distance.argsort()]\n",
    "            slim_nor = ground_nom[point_neighbours[:,0] == i]\n",
    "            p = slim_nor[p,:]\n",
    "            slim_nor = slim_nor[slim_distance.argsort()]\n",
    "            slim_distance.sort()\n",
    "            a_jiao = np.fabs(np.dot(slim_nor, p))\n",
    "            b = np.diff(slim[:,2])\n",
    "            b =np.append(b,1)\n",
    "            a = a_jiao > cosine_threshold\n",
    "            d = slim[a]\n",
    "            paves = np.concatenate((paves,d),axis=0)\n",
    "    pave = np.delete(pave,0)        "
   ]
  },
  {
   "cell_type": "code",
   "execution_count": 32,
   "metadata": {},
   "outputs": [],
   "source": [
    "seed = datas.find_index(paves,geometrys)"
   ]
  },
  {
   "cell_type": "code",
   "execution_count": 29,
   "metadata": {},
   "outputs": [],
   "source": [
    "seed = []"
   ]
  },
  {
   "cell_type": "code",
   "execution_count": 33,
   "metadata": {},
   "outputs": [],
   "source": [
    "for i in geometrys:\n",
    "    a = np.argwhere((paves == i).all(axis=1)).ravel()\n",
    "    if len(a)>0:\n",
    "        seed.append(a[0])\n"
   ]
  },
  {
   "cell_type": "code",
   "execution_count": 34,
   "metadata": {},
   "outputs": [],
   "source": [
    "paves = np.delete(paves,seed,0)\n"
   ]
  },
  {
   "cell_type": "code",
   "execution_count": 35,
   "metadata": {},
   "outputs": [],
   "source": [
    "paves = datas.np_to_o3d(paves)"
   ]
  },
  {
   "cell_type": "code",
   "execution_count": 36,
   "metadata": {},
   "outputs": [],
   "source": [
    "o3d.visualization.draw_geometries([paves])\n"
   ]
  },
  {
   "cell_type": "code",
   "execution_count": 38,
   "metadata": {},
   "outputs": [],
   "source": [
    "def euclidean_cluster(cloud,point, tolerance=0.2, min_cluster_size=100, max_cluster_size=1000000000000):\n",
    "    \"\"\"\n",
    "    欧式聚类\n",
    "    :param cloud:输入点云\n",
    "    :param tolerance: 设置近邻搜索的搜索半径（也即两个不同聚类团点之间的最小欧氏距离）\n",
    "    :param min_cluster_size:设置一个聚类需要的最少的点数目\n",
    "    :param max_cluster_size:设置一个聚类需要的最大点数目\n",
    "    :return:聚类个数\n",
    "    \"\"\"\n",
    "\n",
    "    kdtree = o3d.geometry.KDTreeFlann(cloud)  # 对点云建立kd树索引\n",
    "\n",
    "    num_points = len(cloud.points)\n",
    "    processed = [-1] * num_points  # 定义所需变量\n",
    "    clusters = []  # 初始化聚类\n",
    "    # 遍历各点\n",
    "    while point:\n",
    "        if processed[point[0]] == 1:  # 如果该点已经处理则跳过\n",
    "            continue\n",
    "        seed_queue = []  # 定义一个种子队列\n",
    "        sq_idx = 0\n",
    "        seed_queue.append(point[0])  # 加入一个种子点\n",
    "        processed[point[0]] = 1\n",
    "\n",
    "        while sq_idx < len(seed_queue):\n",
    "\n",
    "            k, nn_indices, _ = kdtree.search_radius_vector_3d(cloud.points[seed_queue[sq_idx]], tolerance)\n",
    "\n",
    "            if k == 1:  # k=1表示该种子点没有近邻点\n",
    "                sq_idx += 1\n",
    "                continue\n",
    "            for j in range(k):\n",
    "\n",
    "                if nn_indices[j] == num_points or processed[nn_indices[j]] == 1:\n",
    "                    continue  # 种子点的近邻点中如果已经处理就跳出此次循环继续\n",
    "                seed_queue.append(nn_indices[j])\n",
    "                processed[nn_indices[j]] = 1\n",
    "\n",
    "            sq_idx += 1\n",
    "\n",
    "        if max_cluster_size > len(seed_queue) > min_cluster_size:\n",
    "            clusters.append(seed_queue)\n",
    "            point = False\n",
    "\n",
    "    return seed_queue"
   ]
  },
  {
   "cell_type": "code",
   "execution_count": 152,
   "metadata": {},
   "outputs": [],
   "source": [
    "if __name__ == '__main__':\n",
    "    # --------------------------加载点云数据------------------------------\n",
    "    pcd = paves\n",
    "    # ---------------------------欧式聚类--------------------------------\n",
    "    ec = euclidean_cluster(pcd, tolerance=0.1, min_cluster_size=1000, max_cluster_size=100000000)\n",
    "    # -------------------------聚类结果分类保存---------------------------\n",
    "\n",
    "    for i in range(len(ec)):\n",
    "        ind = ec[i]\n",
    "        clusters_cloud = pcd.select_by_index(ind)\n",
    "        file_name = \"euclidean_cluster\" + str(i + 1) + \".pcd\"\n",
    "        o3d.io.write_point_cloud(file_name, clusters_cloud)"
   ]
  },
  {
   "cell_type": "code",
   "execution_count": 39,
   "metadata": {},
   "outputs": [],
   "source": [
    "pcd = paves\n",
    "    # ---------------------------欧式聚类--------------------------------\n",
    "ec = euclidean_cluster(pcd,point, tolerance=0.1, min_cluster_size=1000, max_cluster_size=100000000)"
   ]
  },
  {
   "cell_type": "code",
   "execution_count": 42,
   "metadata": {},
   "outputs": [],
   "source": [
    "ec = pcd.select_by_index(ec)\n"
   ]
  },
  {
   "cell_type": "code",
   "execution_count": 3,
   "metadata": {},
   "outputs": [
    {
     "ename": "NameError",
     "evalue": "name 'o3d' is not defined",
     "output_type": "error",
     "traceback": [
      "\u001b[1;31m---------------------------------------------------------------------------\u001b[0m",
      "\u001b[1;31mNameError\u001b[0m                                 Traceback (most recent call last)",
      "Cell \u001b[1;32mIn[3], line 1\u001b[0m\n\u001b[1;32m----> 1\u001b[0m o3d\u001b[39m.\u001b[39mvisualization\u001b[39m.\u001b[39mdraw_geometries([ec])\n",
      "\u001b[1;31mNameError\u001b[0m: name 'o3d' is not defined"
     ]
    }
   ],
   "source": [
    "o3d.visualization.draw_geometries([ec])\n"
   ]
  }
 ],
 "metadata": {
  "kernelspec": {
   "display_name": "Point_Datas",
   "language": "python",
   "name": "python3"
  },
  "language_info": {
   "codemirror_mode": {
    "name": "ipython",
    "version": 3
   },
   "file_extension": ".py",
   "mimetype": "text/x-python",
   "name": "python",
   "nbconvert_exporter": "python",
   "pygments_lexer": "ipython3",
   "version": "3.10.8"
  },
  "orig_nbformat": 4,
  "vscode": {
   "interpreter": {
    "hash": "464648088c00e173b70600e06c85393a3edebab204038748415719ab367f57ba"
   }
  }
 },
 "nbformat": 4,
 "nbformat_minor": 2
}
