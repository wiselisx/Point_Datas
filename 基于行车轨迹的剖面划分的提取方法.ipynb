{
 "cells": [
  {
   "cell_type": "code",
   "execution_count": 1,
   "metadata": {},
   "outputs": [
    {
     "name": "stdout",
     "output_type": "stream",
     "text": [
      "Jupyter environment detected. Enabling Open3D WebVisualizer.\n",
      "[Open3D INFO] WebRTC GUI backend enabled.\n",
      "[Open3D INFO] WebRTCWindowSystem: HTTP handshake server disabled.\n"
     ]
    }
   ],
   "source": [
    "import open3d as o3d\n",
    "import numpy as np\n",
    "import sys\n",
    "import open3d.visualization.gui as gui\n"
   ]
  },
  {
   "cell_type": "code",
   "execution_count": 2,
   "metadata": {},
   "outputs": [],
   "source": [
    "sys.path.insert(0,'sample')"
   ]
  },
  {
   "cell_type": "code",
   "execution_count": 3,
   "metadata": {},
   "outputs": [],
   "source": [
    "from read_datas import ReadDatas"
   ]
  },
  {
   "cell_type": "code",
   "execution_count": 4,
   "metadata": {},
   "outputs": [],
   "source": [
    "datas =  ReadDatas('Point Cloud Data\\Corner.ply')"
   ]
  },
  {
   "cell_type": "code",
   "execution_count": 5,
   "metadata": {},
   "outputs": [],
   "source": [
    "datas.gpf_ground_extraction()"
   ]
  },
  {
   "cell_type": "code",
   "execution_count": 6,
   "metadata": {},
   "outputs": [],
   "source": [
    "ground = datas.np_to_o3d(datas.ground)\n"
   ]
  },
  {
   "cell_type": "code",
   "execution_count": 7,
   "metadata": {},
   "outputs": [
    {
     "name": "stdout",
     "output_type": "stream",
     "text": [
      "[Open3D INFO] Picked point #15100 (-14., -13., -1.6) to add in queue.\n",
      "[Open3D INFO] Picked point #13992 (-6.6, -13., -1.6) to add in queue.\n",
      "[Open3D INFO] Picked point #19673 (-4.2, -13., -1.6) to add in queue.\n",
      "[Open3D INFO] Picked point #35148 (-1.1, -12., -1.6) to add in queue.\n",
      "[Open3D INFO] Picked point #60451 (4.1, -7.7, -1.5) to add in queue.\n",
      "[Open3D INFO] Picked point #69243 (5.1, -2.3, -1.5) to add in queue.\n",
      "[Open3D INFO] No point has been picked.\n",
      "[Open3D INFO] No point has been picked.\n",
      "[Open3D INFO] Picked point #70431 (5.0, 5.9, -1.5) to add in queue.\n"
     ]
    }
   ],
   "source": [
    "vis = o3d.visualization.VisualizerWithEditing()\n",
    "vis.create_window(window_name='Open3D', visible=True)\n",
    "vis.add_geometry(ground)\n",
    "vis.run()\n",
    "point = vis.get_picked_points()\n",
    "geometry = vis.get_cropped_geometry()\n",
    "vis.destroy_window()"
   ]
  },
  {
   "cell_type": "code",
   "execution_count": 8,
   "metadata": {},
   "outputs": [
    {
     "data": {
      "text/plain": [
       "[15100, 13992, 19673, 35148, 60451, 69243, 70431]"
      ]
     },
     "execution_count": 8,
     "metadata": {},
     "output_type": "execute_result"
    }
   ],
   "source": [
    "point"
   ]
  },
  {
   "cell_type": "code",
   "execution_count": 9,
   "metadata": {},
   "outputs": [],
   "source": [
    "def no_paves(ground):    \n",
    "    vis = o3d.visualization.VisualizerWithEditing()\n",
    "    vis.create_window(window_name='Open3D', visible=True)\n",
    "    vis.add_geometry(ground)\n",
    "    vis.run()\n",
    "    geometry = vis.get_cropped_geometry()\n",
    "    vis.destroy_window()\n",
    "    geometry = np.asarray(geometry.points)\n",
    "\n",
    "    return geometry"
   ]
  },
  {
   "cell_type": "code",
   "execution_count": 10,
   "metadata": {},
   "outputs": [],
   "source": [
    "geometrys = np.array([[0,0,0]])\n",
    "yuncing = True\n"
   ]
  },
  {
   "cell_type": "code",
   "execution_count": 11,
   "metadata": {},
   "outputs": [],
   "source": [
    "\n",
    "while yuncing:\n",
    "    geometry = no_paves(ground)\n",
    "    geometrys = np.concatenate((geometrys,geometry),axis=0)\n",
    "    input_1 = input('是否继续')\n",
    "    if input_1 == 'y' or input_1 == 'Y':\n",
    "        yuncing = True\n",
    "    else:\n",
    "        yuncing = False"
   ]
  },
  {
   "cell_type": "code",
   "execution_count": 12,
   "metadata": {},
   "outputs": [],
   "source": [
    "ground = ground.select_by_index(point, invert=True)"
   ]
  },
  {
   "cell_type": "code",
   "execution_count": 13,
   "metadata": {},
   "outputs": [],
   "source": [
    "nndist = ground.compute_nearest_neighbor_distance()\n",
    "nndist = np.array(nndist)\n",
    "density = np.mean(nndist)"
   ]
  },
  {
   "cell_type": "code",
   "execution_count": 14,
   "metadata": {},
   "outputs": [],
   "source": [
    "driving_point = datas.ground[point,:]"
   ]
  },
  {
   "cell_type": "code",
   "execution_count": 15,
   "metadata": {},
   "outputs": [],
   "source": [
    "driving_distance = np.array([np.linalg.norm(driving_point[p] - driving_point[p+1]) for p in range(len(driving_point) - 1 )])\n"
   ]
  },
  {
   "cell_type": "code",
   "execution_count": 16,
   "metadata": {},
   "outputs": [],
   "source": [
    "driving_track = np.array([[0,0,0]])"
   ]
  },
  {
   "cell_type": "code",
   "execution_count": 17,
   "metadata": {},
   "outputs": [],
   "source": [
    "for i,d in enumerate(driving_distance):\n",
    "    num = int(d / density)\n",
    "\n",
    "    driving_track_x = np.linspace(driving_point[i,0],driving_point[i+1,0],num)\n",
    "    driving_track_y = np.linspace(driving_point[i,1],driving_point[i+1,1],num)\n",
    "    driving_track_z = np.linspace(driving_point[i,2],driving_point[i+1,2],num)\n",
    "    new_points = np.array([driving_track_x,driving_track_y,driving_track_z]).T\n",
    "\n",
    "    driving_track = np.concatenate((driving_track,new_points),axis=0)\n",
    "    \n",
    "\n",
    "\n",
    "\n",
    "\n",
    "\n"
   ]
  },
  {
   "cell_type": "code",
   "execution_count": 18,
   "metadata": {},
   "outputs": [],
   "source": [
    "driving_track = np.delete(driving_track,0,axis=0)\n"
   ]
  },
  {
   "cell_type": "code",
   "execution_count": 19,
   "metadata": {},
   "outputs": [],
   "source": [
    "driving_track_o3d = datas.np_to_o3d(driving_track)\n"
   ]
  },
  {
   "cell_type": "code",
   "execution_count": 20,
   "metadata": {},
   "outputs": [
    {
     "name": "stdout",
     "output_type": "stream",
     "text": [
      "[Open3D WARNING] invalid color in PaintUniformColor, clipping to [0, 1]\n"
     ]
    },
    {
     "data": {
      "text/plain": [
       "PointCloud with 645 points."
      ]
     },
     "execution_count": 20,
     "metadata": {},
     "output_type": "execute_result"
    }
   ],
   "source": [
    "driving_track_o3d.paint_uniform_color([0,0,55])"
   ]
  },
  {
   "cell_type": "code",
   "execution_count": 21,
   "metadata": {},
   "outputs": [],
   "source": [
    "o3d.visualization.draw_geometries([ground,driving_track_o3d])\n"
   ]
  },
  {
   "cell_type": "code",
   "execution_count": 22,
   "metadata": {},
   "outputs": [],
   "source": [
    "ground += driving_track_o3d"
   ]
  },
  {
   "cell_type": "code",
   "execution_count": 23,
   "metadata": {},
   "outputs": [],
   "source": [
    "neighbour_number = 1\n",
    "kdtree = o3d.geometry.KDTreeFlann(driving_track_o3d)\n",
    "number = len(ground.points)\n",
    "\n",
    "point_neighbours = np.zeros((number, neighbour_number))\n",
    "for ik in range(number):\n",
    "    [_, idx, _] = kdtree.search_knn_vector_3d(ground.points[ik], neighbour_number)  # K近邻搜索\n",
    "    point_neighbours[ik, :] = idx\n"
   ]
  },
  {
   "cell_type": "code",
   "execution_count": 24,
   "metadata": {},
   "outputs": [],
   "source": [
    "ground_np = np.asarray(ground.points)\n",
    "ground_nom = ground.estimate_normals()\n",
    "ground_nom = np.asarray(ground.normals)\n",
    "theta_threshold = 30\n",
    "cosine_threshold = np.cos(np.deg2rad(theta_threshold))\n",
    "paves = np.array([[0,0,0]])"
   ]
  },
  {
   "cell_type": "code",
   "execution_count": 130,
   "metadata": {},
   "outputs": [],
   "source": [
    "from tqdm import tqdm"
   ]
  },
  {
   "cell_type": "code",
   "execution_count": 25,
   "metadata": {},
   "outputs": [
    {
     "name": "stderr",
     "output_type": "stream",
     "text": [
      "C:\\Users\\master\\AppData\\Local\\Temp\\ipykernel_24064\\3721048001.py:7: RuntimeWarning: invalid value encountered in divide\n",
      "  slim_distance[slim_nom[:,0]/slim_nom[:,1] < 0] = slim_distance[slim_nom[:,0]/slim_nom[:,1] < 0] * -1\n"
     ]
    }
   ],
   "source": [
    "for i,p in enumerate(driving_track):\n",
    "    slim = ground_np[point_neighbours[:,0] == i]\n",
    "    if len(slim) > 0:\n",
    "        slim_distance = np.sqrt(np.sum(np.power(slim - driving_track[i,:],2),axis = 1))\n",
    "        p = slim_distance.argmin()\n",
    "        slim_nom = slim - driving_track[i,:]\n",
    "        slim_distance[slim_nom[:,0]/slim_nom[:,1] < 0] = slim_distance[slim_nom[:,0]/slim_nom[:,1] < 0] * -1\n",
    "        slim = slim[slim_distance.argsort()]\n",
    "        slim_nor = ground_nom[point_neighbours[:,0] == i]\n",
    "        p = slim_nor[p,:]\n",
    "        slim_nor = slim_nor[slim_distance.argsort()]\n",
    "        slim_distance.sort()\n",
    "        # slim_point = np.where(slim[:,:] == driving_track[i,:])[0][0] \n",
    "        a_jiao = np.fabs(np.dot(slim_nor, p))\n",
    "        b = np.diff(slim[:,2])\n",
    "        b =np.append(b,1)\n",
    "        a = a_jiao > cosine_threshold\n",
    "        # b1 = b > -0.05 \n",
    "        # b2 = 0.05 > b\n",
    "        # c = a & b1 & b2\n",
    "        d = slim[a]\n",
    "        # d = d[np.isin(d,geometrys,invert=True)]\n",
    "        paves = np.concatenate((paves,d),axis=0)"
   ]
  },
  {
   "cell_type": "code",
   "execution_count": 26,
   "metadata": {},
   "outputs": [],
   "source": [
    "seed = []"
   ]
  },
  {
   "cell_type": "code",
   "execution_count": 27,
   "metadata": {},
   "outputs": [
    {
     "name": "stderr",
     "output_type": "stream",
     "text": [
      "C:\\Users\\master\\AppData\\Local\\Temp\\ipykernel_24064\\3883217475.py:3: DeprecationWarning: The truth value of an empty array is ambiguous. Returning False, but in future this will result in an error. Use `array.size > 0` to check that an array is not empty.\n",
      "  if a:\n"
     ]
    }
   ],
   "source": [
    "for i in geometrys:\n",
    "    a = np.argwhere((paves == i).all(axis=1)).ravel()\n",
    "    if a:\n",
    "        seed.append(a[0])\n"
   ]
  },
  {
   "cell_type": "code",
   "execution_count": 28,
   "metadata": {},
   "outputs": [],
   "source": [
    "paves = np.delete(paves,seed,0)\n"
   ]
  },
  {
   "cell_type": "code",
   "execution_count": 29,
   "metadata": {},
   "outputs": [],
   "source": [
    "paves = datas.np_to_o3d(paves)"
   ]
  },
  {
   "cell_type": "code",
   "execution_count": null,
   "metadata": {},
   "outputs": [
    {
     "ename": "",
     "evalue": "",
     "output_type": "error",
     "traceback": [
      "\u001b[1;31mCanceled future for execute_request message before replies were done"
     ]
    },
    {
     "ename": "",
     "evalue": "",
     "output_type": "error",
     "traceback": [
      "\u001b[1;31m在当前单元格或上一个单元格中执行代码时 Kernel 崩溃。请查看单元格中的代码，以确定故障的可能原因。有关详细信息，请单击 <a href='https://aka.ms/vscodeJupyterKernelCrash'>此处</a>。有关更多详细信息，请查看 Jupyter <a href='command:jupyter.viewOutput'>log</a>。"
     ]
    }
   ],
   "source": [
    "o3d.visualization.draw_geometries([paves])\n"
   ]
  },
  {
   "cell_type": "code",
   "execution_count": 145,
   "metadata": {},
   "outputs": [],
   "source": [
    "def euclidean_cluster(cloud, tolerance=0.2, min_cluster_size=100, max_cluster_size=1000):\n",
    "    \"\"\"\n",
    "    欧式聚类\n",
    "    :param cloud:输入点云\n",
    "    :param tolerance: 设置近邻搜索的搜索半径（也即两个不同聚类团点之间的最小欧氏距离）\n",
    "    :param min_cluster_size:设置一个聚类需要的最少的点数目\n",
    "    :param max_cluster_size:设置一个聚类需要的最大点数目\n",
    "    :return:聚类个数\n",
    "    \"\"\"\n",
    "\n",
    "    kdtree = o3d.geometry.KDTreeFlann(cloud)  # 对点云建立kd树索引\n",
    "\n",
    "    num_points = len(cloud.points)\n",
    "    processed = [-1] * num_points  # 定义所需变量\n",
    "    clusters = []  # 初始化聚类\n",
    "    # 遍历各点\n",
    "    for idx in range(num_points):\n",
    "        if processed[idx] == 1:  # 如果该点已经处理则跳过\n",
    "            continue\n",
    "        seed_queue = []  # 定义一个种子队列\n",
    "        sq_idx = 0\n",
    "        seed_queue.append(idx)  # 加入一个种子点\n",
    "        processed[idx] = 1\n",
    "\n",
    "        while sq_idx < len(seed_queue):\n",
    "\n",
    "            k, nn_indices, _ = kdtree.search_radius_vector_3d(cloud.points[seed_queue[sq_idx]], tolerance)\n",
    "\n",
    "            if k == 1:  # k=1表示该种子点没有近邻点\n",
    "                sq_idx += 1\n",
    "                continue\n",
    "            for j in range(k):\n",
    "\n",
    "                if nn_indices[j] == num_points or processed[nn_indices[j]] == 1:\n",
    "                    continue  # 种子点的近邻点中如果已经处理就跳出此次循环继续\n",
    "                seed_queue.append(nn_indices[j])\n",
    "                processed[nn_indices[j]] = 1\n",
    "\n",
    "            sq_idx += 1\n",
    "\n",
    "        if max_cluster_size > len(seed_queue) > min_cluster_size:\n",
    "            clusters.append(seed_queue)\n",
    "\n",
    "    return clusters"
   ]
  },
  {
   "cell_type": "code",
   "execution_count": 152,
   "metadata": {},
   "outputs": [],
   "source": [
    "if __name__ == '__main__':\n",
    "    # --------------------------加载点云数据------------------------------\n",
    "    pcd = paves\n",
    "    # ---------------------------欧式聚类--------------------------------\n",
    "    ec = euclidean_cluster(pcd, tolerance=0.1, min_cluster_size=1000, max_cluster_size=100000000)\n",
    "    # -------------------------聚类结果分类保存---------------------------\n",
    "\n",
    "    for i in range(len(ec)):\n",
    "        ind = ec[i]\n",
    "        clusters_cloud = pcd.select_by_index(ind)\n",
    "        file_name = \"euclidean_cluster\" + str(i + 1) + \".pcd\"\n",
    "        o3d.io.write_point_cloud(file_name, clusters_cloud)"
   ]
  },
  {
   "cell_type": "code",
   "execution_count": 2,
   "metadata": {},
   "outputs": [],
   "source": [
    "pcd = o3d.io.read_point_cloud(\"euclidean_cluster1.pcd\")\n",
    "pcd1 = o3d.io.read_point_cloud(\"euclidean_cluster2.pcd\")\n",
    "pcd2 =o3d.io.read_point_cloud(\"euclidean_cluster3.pcd\")"
   ]
  },
  {
   "cell_type": "code",
   "execution_count": 3,
   "metadata": {},
   "outputs": [
    {
     "data": {
      "text/plain": [
       "PointCloud with 11585 points."
      ]
     },
     "execution_count": 3,
     "metadata": {},
     "output_type": "execute_result"
    }
   ],
   "source": [
    "pcd.paint_uniform_color([1, 0, 0])\n",
    "pcd1.paint_uniform_color([0, 1, 0])\n",
    "pcd2.paint_uniform_color([0, 0, 1])\n"
   ]
  },
  {
   "cell_type": "code",
   "execution_count": 150,
   "metadata": {},
   "outputs": [],
   "source": [
    "o3d.visualization.draw_geometries([pcd, pcd1, pcd2])\n"
   ]
  }
 ],
 "metadata": {
  "kernelspec": {
   "display_name": "Point_Datas",
   "language": "python",
   "name": "python3"
  },
  "language_info": {
   "codemirror_mode": {
    "name": "ipython",
    "version": 3
   },
   "file_extension": ".py",
   "mimetype": "text/x-python",
   "name": "python",
   "nbconvert_exporter": "python",
   "pygments_lexer": "ipython3",
   "version": "3.10.8"
  },
  "orig_nbformat": 4,
  "vscode": {
   "interpreter": {
    "hash": "464648088c00e173b70600e06c85393a3edebab204038748415719ab367f57ba"
   }
  }
 },
 "nbformat": 4,
 "nbformat_minor": 2
}
