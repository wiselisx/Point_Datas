{
 "cells": [
  {
   "cell_type": "code",
   "execution_count": 60,
   "metadata": {},
   "outputs": [],
   "source": [
    "import open3d as o3d\n",
    "import numpy as np\n",
    "import sys\n",
    "import open3d.visualization.gui as gui\n"
   ]
  },
  {
   "cell_type": "code",
   "execution_count": 61,
   "metadata": {},
   "outputs": [],
   "source": [
    "sys.path.insert(0,'sample')"
   ]
  },
  {
   "cell_type": "code",
   "execution_count": 62,
   "metadata": {},
   "outputs": [],
   "source": [
    "from read_datas import ReadDatas"
   ]
  },
  {
   "cell_type": "code",
   "execution_count": 63,
   "metadata": {},
   "outputs": [],
   "source": [
    "datas =  ReadDatas('Point Cloud Data\\Corner.ply')"
   ]
  },
  {
   "cell_type": "code",
   "execution_count": 64,
   "metadata": {},
   "outputs": [],
   "source": [
    "datas.gpf_ground_extraction()"
   ]
  },
  {
   "cell_type": "code",
   "execution_count": 65,
   "metadata": {},
   "outputs": [],
   "source": [
    "ground = datas.np_to_o3d(datas.ground)\n"
   ]
  },
  {
   "cell_type": "code",
   "execution_count": 66,
   "metadata": {},
   "outputs": [
    {
     "name": "stdout",
     "output_type": "stream",
     "text": [
      "[Open3D INFO] No point has been picked.\n",
      "[Open3D WARNING] GLFW Error: WGL: Failed to make context current: 不支持请求的转换操作。 \n",
      "[Open3D INFO] Picked point #15100 (-14., -13., -1.6) to add in queue.\n",
      "[Open3D INFO] Picked point #19670 (-4.3, -13., -1.6) to add in queue.\n",
      "[Open3D INFO] Picked point #20072 (-3.3, -13., -1.6) to add in queue.\n",
      "[Open3D INFO] Picked point #23004 (-2.5, -12., -1.6) to add in queue.\n",
      "[Open3D INFO] Picked point #42555 (1.2, -11., -1.5) to add in queue.\n",
      "[Open3D INFO] Picked point #60443 (4.2, -7.9, -1.5) to add in queue.\n",
      "[Open3D INFO] Picked point #50958 (5.2, -6.3, -1.5) to add in queue.\n",
      "[Open3D INFO] Picked point #67815 (5.3, -2.0, -1.5) to add in queue.\n",
      "[Open3D INFO] Picked point #70052 (5.1, 2.7, -1.5) to add in queue.\n",
      "[Open3D WARNING] GLFW Error: WGL: Failed to make context current: 句柄无效。 \n",
      "[Open3D INFO] No point has been picked.\n",
      "[Open3D INFO] Picked point #69978 (5.1, 5.9, -1.5) to add in queue.\n"
     ]
    }
   ],
   "source": [
    "point = datas.seed_select(ground)"
   ]
  },
  {
   "cell_type": "code",
   "execution_count": 67,
   "metadata": {},
   "outputs": [
    {
     "data": {
      "text/plain": [
       "[15100, 19670, 20072, 23004, 42555, 60443, 50958, 67815, 70052, 69978]"
      ]
     },
     "execution_count": 67,
     "metadata": {},
     "output_type": "execute_result"
    }
   ],
   "source": [
    "point"
   ]
  },
  {
   "cell_type": "code",
   "execution_count": 68,
   "metadata": {},
   "outputs": [],
   "source": [
    "geometrys = datas.find_no_paves(ground)"
   ]
  },
  {
   "cell_type": "code",
   "execution_count": 69,
   "metadata": {},
   "outputs": [],
   "source": [
    "def calculate_linear_density(ground):\n",
    "    nndist = ground.compute_nearest_neighbor_distance()\n",
    "    nndist = np.array(nndist)\n",
    "    density = np.mean(nndist)\n",
    "    return density\n"
   ]
  },
  {
   "cell_type": "code",
   "execution_count": 70,
   "metadata": {},
   "outputs": [],
   "source": [
    "def driving_path_generation(point,ground):\n",
    "    density = calculate_linear_density(ground)\n",
    "    driving_point = ground.select_by_index(point)\n",
    "    driving_point = np.array(driving_point.points)\n",
    "\n",
    "    ground = ground.select_by_index(point, invert=True)\n",
    "    driving_distance = np.array([np.linalg.norm(driving_point[p] - driving_point[p+1]) for p in range(len(driving_point) - 1 )])\n",
    "    driving_track = np.array([[0,0,0]])\n",
    "\n",
    "    for i,d in enumerate(driving_distance):\n",
    "        num = int(d / density)\n",
    "\n",
    "        driving_track_x = np.linspace(driving_point[i,0],driving_point[i+1,0],num)\n",
    "        driving_track_y = np.linspace(driving_point[i,1],driving_point[i+1,1],num)\n",
    "        driving_track_z = np.linspace(driving_point[i,2],driving_point[i+1,2],num)\n",
    "        new_points = np.array([driving_track_x,driving_track_y,driving_track_z]).T\n",
    "\n",
    "        driving_track = np.concatenate((driving_track,new_points),axis=0)\n",
    "    driving_track = np.delete(driving_track,0,axis=0)\n",
    "    return driving_track\n"
   ]
  },
  {
   "cell_type": "code",
   "execution_count": 71,
   "metadata": {},
   "outputs": [],
   "source": [
    "driving_track = driving_path_generation(point,ground)"
   ]
  },
  {
   "cell_type": "code",
   "execution_count": 72,
   "metadata": {},
   "outputs": [],
   "source": [
    "driving_track_o3d = datas.np_to_o3d(driving_track)\n"
   ]
  },
  {
   "cell_type": "code",
   "execution_count": 73,
   "metadata": {},
   "outputs": [],
   "source": [
    "ground += driving_track_o3d"
   ]
  },
  {
   "cell_type": "code",
   "execution_count": 77,
   "metadata": {},
   "outputs": [],
   "source": [
    "def find_nearest_point(clouds1,clouds2,neighbour_number = 1):\n",
    "\n",
    "    neighbour_number = 1\n",
    "    kdtree = o3d.geometry.KDTreeFlann(clouds1)\n",
    "    number = len(ground.points)\n",
    "\n",
    "    point_neighbours = np.zeros((number, neighbour_number))\n",
    "    for ik in range(number):\n",
    "        [_, idx, _] = kdtree.search_knn_vector_3d(clouds2.points[ik], neighbour_number)  # K近邻搜索\n",
    "        point_neighbours[ik, :] = idx\n",
    "    return point_neighbours\n"
   ]
  },
  {
   "cell_type": "code",
   "execution_count": 78,
   "metadata": {},
   "outputs": [],
   "source": [
    "point_neighbours = find_nearest_point(driving_track_o3d,ground)\n"
   ]
  },
  {
   "cell_type": "code",
   "execution_count": 86,
   "metadata": {},
   "outputs": [],
   "source": [
    "ground_np = np.asarray(ground.points)\n",
    "ground_nom = ground.estimate_normals()\n",
    "ground_nom = np.asarray(ground.normals)\n",
    "theta_threshold = 30\n",
    "cosine_threshold = np.cos(np.deg2rad(theta_threshold))\n",
    "paves = np.array([[0,0,0]])"
   ]
  },
  {
   "cell_type": "code",
   "execution_count": 130,
   "metadata": {},
   "outputs": [],
   "source": [
    "from tqdm import tqdm"
   ]
  },
  {
   "cell_type": "code",
   "execution_count": 87,
   "metadata": {},
   "outputs": [
    {
     "name": "stderr",
     "output_type": "stream",
     "text": [
      "C:\\Users\\master\\AppData\\Local\\Temp\\ipykernel_1100\\3721048001.py:7: RuntimeWarning: invalid value encountered in divide\n",
      "  slim_distance[slim_nom[:,0]/slim_nom[:,1] < 0] = slim_distance[slim_nom[:,0]/slim_nom[:,1] < 0] * -1\n"
     ]
    }
   ],
   "source": [
    "for i,p in enumerate(driving_track):\n",
    "    slim = ground_np[point_neighbours[:,0] == i]\n",
    "    if len(slim) > 0:\n",
    "        slim_distance = np.sqrt(np.sum(np.power(slim - driving_track[i,:],2),axis = 1))\n",
    "        p = slim_distance.argmin()\n",
    "        slim_nom = slim - driving_track[i,:]\n",
    "        slim_distance[slim_nom[:,0]/slim_nom[:,1] < 0] = slim_distance[slim_nom[:,0]/slim_nom[:,1] < 0] * -1\n",
    "        slim = slim[slim_distance.argsort()]\n",
    "        slim_nor = ground_nom[point_neighbours[:,0] == i]\n",
    "        p = slim_nor[p,:]\n",
    "        slim_nor = slim_nor[slim_distance.argsort()]\n",
    "        slim_distance.sort()\n",
    "        # slim_point = np.where(slim[:,:] == driving_track[i,:])[0][0] \n",
    "        a_jiao = np.fabs(np.dot(slim_nor, p))\n",
    "        b = np.diff(slim[:,2])\n",
    "        b =np.append(b,1)\n",
    "        a = a_jiao > cosine_threshold\n",
    "        # b1 = b > -0.05 \n",
    "        # b2 = 0.05 > b\n",
    "        # c = a & b1 & b2\n",
    "        d = slim[a]\n",
    "        # d = d[np.isin(d,geometrys,invert=True)]\n",
    "        paves = np.concatenate((paves,d),axis=0)"
   ]
  },
  {
   "cell_type": "code",
   "execution_count": 88,
   "metadata": {},
   "outputs": [],
   "source": [
    "seed = datas.find_index(paves,geometrys)"
   ]
  },
  {
   "cell_type": "code",
   "execution_count": 81,
   "metadata": {},
   "outputs": [],
   "source": [
    "seed = []"
   ]
  },
  {
   "cell_type": "code",
   "execution_count": 82,
   "metadata": {},
   "outputs": [
    {
     "name": "stderr",
     "output_type": "stream",
     "text": [
      "C:\\Users\\master\\AppData\\Local\\Temp\\ipykernel_1100\\3883217475.py:3: DeprecationWarning: The truth value of an empty array is ambiguous. Returning False, but in future this will result in an error. Use `array.size > 0` to check that an array is not empty.\n",
      "  if a:\n"
     ]
    }
   ],
   "source": [
    "for i in geometrys:\n",
    "    a = np.argwhere((paves == i).all(axis=1)).ravel()\n",
    "    if a:\n",
    "        seed.append(a[0])\n"
   ]
  },
  {
   "cell_type": "code",
   "execution_count": 89,
   "metadata": {},
   "outputs": [],
   "source": [
    "paves = np.delete(paves,seed,0)\n"
   ]
  },
  {
   "cell_type": "code",
   "execution_count": 90,
   "metadata": {},
   "outputs": [],
   "source": [
    "paves = datas.np_to_o3d(paves)"
   ]
  },
  {
   "cell_type": "code",
   "execution_count": 92,
   "metadata": {},
   "outputs": [
    {
     "name": "stdout",
     "output_type": "stream",
     "text": [
      "[Open3D WARNING] GLFW Error: WGL: Failed to make context current: 句柄无效。 \n"
     ]
    }
   ],
   "source": [
    "o3d.visualization.draw_geometries([paves])\n"
   ]
  },
  {
   "cell_type": "code",
   "execution_count": 145,
   "metadata": {},
   "outputs": [],
   "source": [
    "def euclidean_cluster(cloud, tolerance=0.2, min_cluster_size=100, max_cluster_size=1000):\n",
    "    \"\"\"\n",
    "    欧式聚类\n",
    "    :param cloud:输入点云\n",
    "    :param tolerance: 设置近邻搜索的搜索半径（也即两个不同聚类团点之间的最小欧氏距离）\n",
    "    :param min_cluster_size:设置一个聚类需要的最少的点数目\n",
    "    :param max_cluster_size:设置一个聚类需要的最大点数目\n",
    "    :return:聚类个数\n",
    "    \"\"\"\n",
    "\n",
    "    kdtree = o3d.geometry.KDTreeFlann(cloud)  # 对点云建立kd树索引\n",
    "\n",
    "    num_points = len(cloud.points)\n",
    "    processed = [-1] * num_points  # 定义所需变量\n",
    "    clusters = []  # 初始化聚类\n",
    "    # 遍历各点\n",
    "    for idx in range(num_points):\n",
    "        if processed[idx] == 1:  # 如果该点已经处理则跳过\n",
    "            continue\n",
    "        seed_queue = []  # 定义一个种子队列\n",
    "        sq_idx = 0\n",
    "        seed_queue.append(idx)  # 加入一个种子点\n",
    "        processed[idx] = 1\n",
    "\n",
    "        while sq_idx < len(seed_queue):\n",
    "\n",
    "            k, nn_indices, _ = kdtree.search_radius_vector_3d(cloud.points[seed_queue[sq_idx]], tolerance)\n",
    "\n",
    "            if k == 1:  # k=1表示该种子点没有近邻点\n",
    "                sq_idx += 1\n",
    "                continue\n",
    "            for j in range(k):\n",
    "\n",
    "                if nn_indices[j] == num_points or processed[nn_indices[j]] == 1:\n",
    "                    continue  # 种子点的近邻点中如果已经处理就跳出此次循环继续\n",
    "                seed_queue.append(nn_indices[j])\n",
    "                processed[nn_indices[j]] = 1\n",
    "\n",
    "            sq_idx += 1\n",
    "\n",
    "        if max_cluster_size > len(seed_queue) > min_cluster_size:\n",
    "            clusters.append(seed_queue)\n",
    "\n",
    "    return clusters"
   ]
  },
  {
   "cell_type": "code",
   "execution_count": 152,
   "metadata": {},
   "outputs": [],
   "source": [
    "if __name__ == '__main__':\n",
    "    # --------------------------加载点云数据------------------------------\n",
    "    pcd = paves\n",
    "    # ---------------------------欧式聚类--------------------------------\n",
    "    ec = euclidean_cluster(pcd, tolerance=0.1, min_cluster_size=1000, max_cluster_size=100000000)\n",
    "    # -------------------------聚类结果分类保存---------------------------\n",
    "\n",
    "    for i in range(len(ec)):\n",
    "        ind = ec[i]\n",
    "        clusters_cloud = pcd.select_by_index(ind)\n",
    "        file_name = \"euclidean_cluster\" + str(i + 1) + \".pcd\"\n",
    "        o3d.io.write_point_cloud(file_name, clusters_cloud)"
   ]
  },
  {
   "cell_type": "code",
   "execution_count": 2,
   "metadata": {},
   "outputs": [],
   "source": [
    "pcd = o3d.io.read_point_cloud(\"euclidean_cluster1.pcd\")\n",
    "pcd1 = o3d.io.read_point_cloud(\"euclidean_cluster2.pcd\")\n",
    "pcd2 =o3d.io.read_point_cloud(\"euclidean_cluster3.pcd\")"
   ]
  },
  {
   "cell_type": "code",
   "execution_count": 3,
   "metadata": {},
   "outputs": [
    {
     "data": {
      "text/plain": [
       "PointCloud with 11585 points."
      ]
     },
     "execution_count": 3,
     "metadata": {},
     "output_type": "execute_result"
    }
   ],
   "source": [
    "pcd.paint_uniform_color([1, 0, 0])\n",
    "pcd1.paint_uniform_color([0, 1, 0])\n",
    "pcd2.paint_uniform_color([0, 0, 1])\n"
   ]
  },
  {
   "cell_type": "code",
   "execution_count": 150,
   "metadata": {},
   "outputs": [],
   "source": [
    "o3d.visualization.draw_geometries([pcd, pcd1, pcd2])\n"
   ]
  }
 ],
 "metadata": {
  "kernelspec": {
   "display_name": "Point_Datas",
   "language": "python",
   "name": "python3"
  },
  "language_info": {
   "codemirror_mode": {
    "name": "ipython",
    "version": 3
   },
   "file_extension": ".py",
   "mimetype": "text/x-python",
   "name": "python",
   "nbconvert_exporter": "python",
   "pygments_lexer": "ipython3",
   "version": "3.10.8"
  },
  "orig_nbformat": 4,
  "vscode": {
   "interpreter": {
    "hash": "464648088c00e173b70600e06c85393a3edebab204038748415719ab367f57ba"
   }
  }
 },
 "nbformat": 4,
 "nbformat_minor": 2
}
