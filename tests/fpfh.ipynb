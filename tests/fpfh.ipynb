{
 "cells": [
  {
   "cell_type": "code",
   "execution_count": 23,
   "metadata": {},
   "outputs": [],
   "source": [
    "import open3d as o3d\n",
    "import numpy as np\n",
    "import sys\n",
    "from sklearn import svm\n",
    "from sklearn.model_selection import train_test_split\n",
    "from sklearn.metrics import accuracy_score\n",
    "import joblib\n"
   ]
  },
  {
   "cell_type": "code",
   "execution_count": 24,
   "metadata": {},
   "outputs": [],
   "source": [
    "sys.path.append('../sample')\n",
    "from readdatas import *"
   ]
  },
  {
   "cell_type": "code",
   "execution_count": 25,
   "metadata": {},
   "outputs": [],
   "source": [
    "path = 'D:\\project\\Point_Datas\\Point Cloud Data\\Corner.ply'\n",
    "pcd =  ReadDatas(path)"
   ]
  },
  {
   "cell_type": "code",
   "execution_count": 26,
   "metadata": {},
   "outputs": [],
   "source": [
    "gpf = GpfGroundExtractor()\n",
    "gpf.set_data(pcd)\n",
    "gpf._process_data()"
   ]
  },
  {
   "cell_type": "code",
   "execution_count": 35,
   "metadata": {},
   "outputs": [],
   "source": [
    "class SVM_FPFH(BaseAlgorithm):\n",
    "\n",
    "    def __init__(self, data, path):\n",
    "        self.data = data;\n",
    "        self.ground = data.ground\n",
    "        self.ground_o3d = self.np_to_o3d(self.ground)\n",
    "        self.ground_nor = np.asarray(self.ground_o3d.normals)\n",
    "        self.feature_vector = self.get_feature_vector()\n",
    "        self.path = path\n",
    "\n",
    "    def _process_data(self):\n",
    "        clf = joblib.load(self.path)\n",
    "        print('hellow')\n",
    "        y_pred_all = clf.predict(self.feature_vector)\n",
    "        index = np.array(range(len(pcd.ground)))\n",
    "        index = index[y_pred_all]\n",
    "        self.no_side = self.ground_o3d.select_by_index(index)\n",
    "        self.data.paves = self.euclidean_cluster(self.no_side)   # 欧拉点数目大于150个的点都是avaible for pave. 大约6000个点\n",
    "\n",
    "\n",
    "    def euclidean_cluster(self,cloud, tolerance=0.2):\n",
    "        seed = self.seed_select(cloud)\n",
    "        no_paves = self.find_no_paves(cloud)\n",
    "        paves = np.asarray(cloud.points)\n",
    "        no_paves = self.find_index(paves, no_paves)\n",
    "        kdtree = o3d.geometry.KDTreeFlann(cloud)\n",
    "        paves = np.array(seed)\n",
    "        while len(seed) > 0 :\n",
    "            seed_now = seed[0]\n",
    "            k, idx, _ = kdtree.search_radius_vector_3d(cloud.points[seed_now], tolerance)\n",
    "            if k == 1 :\n",
    "                continue\n",
    "            idx = np.array(idx)\n",
    "            idx = idx[np.isin(idx, paves, invert=True)]\n",
    "            idx = idx[np.isin(idx, no_paves, invert=True)]\n",
    "            paves = np.append(paves, idx)\n",
    "            seed = np.append(seed,idx)\n",
    "            seed = np.delete(seed,[0])\n",
    "        return paves\n",
    "\n",
    "        \n",
    "\n",
    "    def get_feature_vector(self):\n",
    "        # 计算法向量\n",
    "        self.ground_o3d.estimate_normals(search_param=o3d.geometry.KDTreeSearchParamHybrid(radius=0.1, max_nn=30))\n",
    "\n",
    "        # 计算FPFH描述符\n",
    "        radius_feature = 0.25\n",
    "        fpfh = o3d.pipelines.registration.compute_fpfh_feature(\n",
    "            self.ground_o3d,\n",
    "            o3d.geometry.KDTreeSearchParamHybrid(radius=radius_feature, max_nn=100))\n",
    "        feature_vector = fpfh.data.T\n",
    "        return feature_vector"
   ]
  },
  {
   "cell_type": "code",
   "execution_count": 36,
   "metadata": {},
   "outputs": [],
   "source": [
    "path = 'SVM_model_fpfh.pkl'"
   ]
  },
  {
   "cell_type": "code",
   "execution_count": 37,
   "metadata": {},
   "outputs": [],
   "source": [
    "svm = SVM_FPFH(pcd,path)"
   ]
  },
  {
   "cell_type": "code",
   "execution_count": 38,
   "metadata": {},
   "outputs": [],
   "source": [
    "feature_vector = svm.feature_vector"
   ]
  },
  {
   "cell_type": "code",
   "execution_count": 40,
   "metadata": {},
   "outputs": [
    {
     "name": "stdout",
     "output_type": "stream",
     "text": [
      "hellow\n"
     ]
    }
   ],
   "source": [
    "svm._process_data()"
   ]
  },
  {
   "cell_type": "code",
   "execution_count": null,
   "metadata": {},
   "outputs": [],
   "source": [
    "\n",
    "reg = ReGrowSegment(pcd)\n",
    "reg._process_data()"
   ]
  },
  {
   "cell_type": "code",
   "execution_count": null,
   "metadata": {},
   "outputs": [],
   "source": [
    "paves = ground_o3d.select_by_index(pcd.paves)\n",
    "o3d.visualization.draw_geometries([paves])"
   ]
  },
  {
   "cell_type": "code",
   "execution_count": null,
   "metadata": {},
   "outputs": [],
   "source": [
    "y = np.full(len(pcd.ground),False,dtype=bool)\n",
    "y[pcd.paves] = True"
   ]
  },
  {
   "cell_type": "code",
   "execution_count": null,
   "metadata": {},
   "outputs": [],
   "source": []
  },
  {
   "cell_type": "code",
   "execution_count": null,
   "metadata": {},
   "outputs": [],
   "source": [
    "# 创建一个SVM模型，使用RBF核函数\n",
    "clf = svm.SVC(kernel='rbf', C=1, gamma=0.5)\n",
    "\n",
    "# 训练模型\n",
    "clf.fit(feature_vector, y)"
   ]
  },
  {
   "cell_type": "code",
   "execution_count": 32,
   "metadata": {},
   "outputs": [],
   "source": [
    "\n",
    "import joblib\n",
    "# joblib.dump(clf, 'SVM_model_fpfh.pkl')\n",
    "clf = joblib.load('SVM_model_fpfh.pkl')"
   ]
  },
  {
   "cell_type": "code",
   "execution_count": null,
   "metadata": {},
   "outputs": [],
   "source": [
    "# y_pred = clf.predict(feature_vector[pcd.paves])\n",
    "y_pred_all = clf.predict(feature_vector)"
   ]
  },
  {
   "cell_type": "code",
   "execution_count": null,
   "metadata": {},
   "outputs": [],
   "source": [
    "accuracy_all = accuracy_score(y, y_pred_all)\n",
    "\n",
    "# 输出准确率\n",
    "print(\"Accuracy: %0.2f\" % accuracy_all)"
   ]
  },
  {
   "cell_type": "code",
   "execution_count": null,
   "metadata": {},
   "outputs": [],
   "source": [
    "index = np.array(range(len(pcd.ground)))\n",
    "index = index[y_pred_all]"
   ]
  },
  {
   "cell_type": "code",
   "execution_count": null,
   "metadata": {},
   "outputs": [],
   "source": [
    "paves = ground_o3d.select_by_index(index)\n",
    "o3d.visualization.draw_geometries([paves])"
   ]
  },
  {
   "cell_type": "code",
   "execution_count": null,
   "metadata": {},
   "outputs": [],
   "source": []
  }
 ],
 "metadata": {
  "kernelspec": {
   "display_name": "Point_Datas",
   "language": "python",
   "name": "python3"
  },
  "language_info": {
   "codemirror_mode": {
    "name": "ipython",
    "version": 3
   },
   "file_extension": ".py",
   "mimetype": "text/x-python",
   "name": "python",
   "nbconvert_exporter": "python",
   "pygments_lexer": "ipython3",
   "version": "3.10.10"
  },
  "orig_nbformat": 4
 },
 "nbformat": 4,
 "nbformat_minor": 2
}
