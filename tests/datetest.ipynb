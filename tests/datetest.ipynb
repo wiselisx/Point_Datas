{
 "cells": [
  {
   "cell_type": "code",
   "execution_count": 1,
   "metadata": {},
   "outputs": [
    {
     "name": "stdout",
     "output_type": "stream",
     "text": [
      "Jupyter environment detected. Enabling Open3D WebVisualizer.\n",
      "[Open3D INFO] WebRTC GUI backend enabled.\n",
      "[Open3D INFO] WebRTCWindowSystem: HTTP handshake server disabled.\n"
     ]
    }
   ],
   "source": [
    "import open3d as o3d\n",
    "import numpy as np\n",
    "import sys"
   ]
  },
  {
   "cell_type": "code",
   "execution_count": 2,
   "metadata": {},
   "outputs": [],
   "source": [
    "sys.path.append('../sample')\n",
    "from readdatas import *"
   ]
  },
  {
   "cell_type": "code",
   "execution_count": 3,
   "metadata": {},
   "outputs": [],
   "source": [
    "path = '..\\Point Cloud Data\\Corner.ply'\n",
    "pcd =  ReadDatas(path)"
   ]
  },
  {
   "cell_type": "code",
   "execution_count": 4,
   "metadata": {},
   "outputs": [],
   "source": [
    "o3d.visualization.draw_geometries([pcd.pcd])"
   ]
  },
  {
   "cell_type": "code",
   "execution_count": 5,
   "metadata": {},
   "outputs": [],
   "source": [
    "csf = CsfGroundExtractor()\n",
    "csf.set_data(pcd)\n",
    "csf._process_data()"
   ]
  },
  {
   "cell_type": "code",
   "execution_count": 15,
   "metadata": {},
   "outputs": [],
   "source": [
    "ran = RansacGroundExtractor()\n",
    "ran.set_data(pcd)\n",
    "ran._process_data()"
   ]
  },
  {
   "cell_type": "code",
   "execution_count": 4,
   "metadata": {},
   "outputs": [],
   "source": [
    "gpf = GpfGroundExtractor()\n",
    "gpf.set_data(pcd)\n",
    "gpf._process_data()"
   ]
  },
  {
   "cell_type": "code",
   "execution_count": 10,
   "metadata": {},
   "outputs": [],
   "source": [
    "ground = gpf.np_to_o3d(pcd.ground)"
   ]
  },
  {
   "cell_type": "code",
   "execution_count": 18,
   "metadata": {},
   "outputs": [],
   "source": [
    "class DriPathSegment(BaseAlgorithm):\n",
    "    def __init__(self, data):\n",
    "        self.data = data\n",
    "        self.ground = self.data.ground\n",
    "        self.ground_o3d = self.np_to_o3d(self.ground)\n",
    "        self.ground_nor = np.asarray(self.ground_o3d.normals)\n",
    "        self.no_paves = np.array([0])\n",
    "        self.index_all = np.array(range(len(self.ground)))\n",
    "\n",
    "        driving_track_seed = self.seed_select(self.ground_o3d)\n",
    "        driving_track = self.driving_path_generation(driving_track_seed, self.ground_o3d)\n",
    "        driving_track_o3d = self.np_to_o3d(driving_track)\n",
    "        driving_track = self.find_nearest_point(self.ground_o3d, driving_track_o3d)\n",
    "\n",
    "        driving_track_o3d = self.ground_o3d.select_by_index(driving_track)\n",
    "        self.point_neighbours = self.find_nearest_point(driving_track_o3d, self.ground_o3d)\n",
    "        self.driving_track = np.asarray(driving_track_o3d.points)\n",
    "\n",
    "\n",
    "        \n",
    "\n",
    "    def _process_data(self):\n",
    "\n",
    "        for i in range(len(self.driving_track)):\n",
    "            slim = self.ground[self.point_neighbours[:, 0] == i]\n",
    "            slim_index = self.index_all[self.point_neighbours[:, 0] == i]\n",
    "            if len(slim) > 0:\n",
    "                slim_nor = self.ground_nor[self.point_neighbours[:, 0] == i]\n",
    "                slim_distance = np.sqrt(np.sum(np.power(slim - self.driving_track[i, :], 2), axis=1))\n",
    "                p = slim_distance.argmin()\n",
    "                p = slim_nor[p, :]\n",
    "                a_jiao = np.fabs(np.dot(slim_nor, p))\n",
    "                c = a_jiao <= self.data.cosine_threshold\n",
    "                self.no_paves = np.concatenate((self.no_paves, slim_index[c]), axis=0)\n",
    "\n",
    "        no_paves = np.delete(self.no_paves, 0, 0)\n",
    "        self.data.paves_o3d = self.ground_o3d.select_by_index(no_paves, invert = True)\n",
    "        paves  = self.ground_o3d.select_by_index(no_paves, invert = True)\n",
    "\n",
    "        self.data.paves = self.euclidean_cluster(paves, tolerance=0.15)\n",
    "\n",
    "    def euclidean_cluster(self,cloud, tolerance=0.2):\n",
    "        seed = self.seed_select(cloud)\n",
    "        no_paves = self.find_no_paves(cloud)\n",
    "        paves = np.asarray(cloud.points)\n",
    "        no_paves = self.find_index(paves, no_paves)\n",
    "        kdtree = o3d.geometry.KDTreeFlann(cloud)\n",
    "        paves = np.array(seed)\n",
    "        while len(seed) > 0 :\n",
    "            seed_now = seed[0]\n",
    "            k, idx, _ = kdtree.search_radius_vector_3d(cloud.points[seed_now], tolerance)\n",
    "            if k == 1 :\n",
    "                continue\n",
    "            idx = np.array(idx)\n",
    "            idx = idx[np.isin(idx, paves, invert=True)]\n",
    "            idx = idx[np.isin(idx, no_paves, invert=True)]\n",
    "            paves = np.append(paves, idx)\n",
    "            seed = np.append(seed,idx)\n",
    "            seed = np.delete(seed,[0])\n",
    "\n",
    "        return paves"
   ]
  },
  {
   "cell_type": "code",
   "execution_count": 6,
   "metadata": {},
   "outputs": [],
   "source": [
    "o3d.visualization.draw_geometries([ground])"
   ]
  },
  {
   "cell_type": "code",
   "execution_count": 7,
   "metadata": {},
   "outputs": [
    {
     "name": "stdout",
     "output_type": "stream",
     "text": [
      "[Open3D INFO] Picked point #8106 (-7.8, -14., -1.6) to add in queue.\n",
      "[Open3D INFO] Picked point #31617 (0.37, -12., -1.6) to add in queue.\n"
     ]
    }
   ],
   "source": [
    "reg = ReGrowSegment(pcd)\n"
   ]
  },
  {
   "cell_type": "code",
   "execution_count": 8,
   "metadata": {},
   "outputs": [],
   "source": [
    "reg._process_data()"
   ]
  },
  {
   "cell_type": "code",
   "execution_count": 15,
   "metadata": {},
   "outputs": [
    {
     "name": "stdout",
     "output_type": "stream",
     "text": [
      "[Open3D INFO] Picked point #15094 (-14., -13., -1.6) to add in queue.\n",
      "[Open3D INFO] No point has been picked.\n",
      "[Open3D INFO] Picked point #17861 (-3.7, -13., -1.6) to add in queue.\n",
      "[Open3D INFO] Picked point #8198 (-4.4, -15., -1.6) to add in queue.\n"
     ]
    }
   ],
   "source": [
    "dps = DriPathSegment2(pcd)\n"
   ]
  },
  {
   "cell_type": "code",
   "execution_count": 7,
   "metadata": {},
   "outputs": [],
   "source": [
    "\n",
    "dps._process_data()"
   ]
  },
  {
   "cell_type": "code",
   "execution_count": 19,
   "metadata": {},
   "outputs": [
    {
     "name": "stdout",
     "output_type": "stream",
     "text": [
      "[Open3D INFO] Picked point #15094 (-14., -13., -1.6) to add in queue.\n",
      "[Open3D INFO] Picked point #9532 (-10., -13., -1.6) to add in queue.\n",
      "[Open3D INFO] Picked point #17310 (-6.2, -13., -1.6) to add in queue.\n",
      "[Open3D INFO] Picked point #21246 (-3.2, -12., -1.6) to add in queue.\n",
      "[Open3D INFO] Picked point #58473 (3.2, -9.0, -1.5) to add in queue.\n",
      "[Open3D INFO] Picked point #66814 (5.1, -4.1, -1.5) to add in queue.\n",
      "[Open3D INFO] Picked point #67032 (5.5, 1.3, -1.5) to add in queue.\n",
      "[Open3D INFO] Picked point #68850 (5.3, 5.9, -1.5) to add in queue.\n"
     ]
    }
   ],
   "source": [
    "dri = DriPathSegment(pcd)\n"
   ]
  },
  {
   "cell_type": "code",
   "execution_count": 20,
   "metadata": {},
   "outputs": [
    {
     "name": "stdout",
     "output_type": "stream",
     "text": [
      "[Open3D INFO] Picked point #17427 (-3.5, -13., -1.6) to add in queue.\n",
      "[Open3D INFO] Picked point #33810 (0.44, -12., -1.6) to add in queue.\n",
      "[Open3D INFO] Picked point #47651 (2.1, -9.8, -1.5) to add in queue.\n",
      "[Open3D WARNING] GLFW Error: WGL: Failed to make context current: 句柄无效。 \n"
     ]
    }
   ],
   "source": [
    "dri._process_data()"
   ]
  },
  {
   "cell_type": "code",
   "execution_count": 11,
   "metadata": {},
   "outputs": [],
   "source": [
    "no_ground = gpf.np_to_o3d(pcd.no_ground)\n",
    "no_paves = ground.select_by_index(pcd.no_paves,invert = True)"
   ]
  },
  {
   "cell_type": "code",
   "execution_count": null,
   "metadata": {},
   "outputs": [],
   "source": [
    "paves = pcd.paves_o3d.select_by_index(pcd.paves)\n",
    "o3d.visualization.draw_geometries([paves])"
   ]
  },
  {
   "cell_type": "code",
   "execution_count": 25,
   "metadata": {},
   "outputs": [
    {
     "data": {
      "text/plain": [
       "PointCloud with 60751 points."
      ]
     },
     "execution_count": 25,
     "metadata": {},
     "output_type": "execute_result"
    }
   ],
   "source": [
    "paves.paint_uniform_color([1,0,0])"
   ]
  },
  {
   "cell_type": "code",
   "execution_count": 26,
   "metadata": {},
   "outputs": [
    {
     "name": "stdout",
     "output_type": "stream",
     "text": [
      "[Open3D WARNING] GLFW Error: WGL: Failed to make context current: 不支持请求的转换操作。 \n"
     ]
    }
   ],
   "source": [
    "o3d.visualization.draw_geometries([no_paves,paves,no_ground])"
   ]
  },
  {
   "cell_type": "code",
   "execution_count": 12,
   "metadata": {},
   "outputs": [],
   "source": [
    "paves  = ground.select_by_index(pcd.no_paves, invert = True)"
   ]
  },
  {
   "cell_type": "code",
   "execution_count": 13,
   "metadata": {},
   "outputs": [],
   "source": [
    "o3d.visualization.draw_geometries([paves])"
   ]
  },
  {
   "cell_type": "code",
   "execution_count": 14,
   "metadata": {},
   "outputs": [],
   "source": [
    "def euclidean_cluster(dps,cloud, tolerance=0.2):\n",
    "    seed = dps.seed_select(cloud)\n",
    "    no_paves = dps.find_no_paves(cloud)\n",
    "    paves = np.asarray(cloud.points)\n",
    "    no_paves = dps.find_index(paves, no_paves)\n",
    "    kdtree = o3d.geometry.KDTreeFlann(cloud)\n",
    "    paves = np.array(seed)\n",
    "    while len(seed) > 0 :\n",
    "        seed_now = seed[0]\n",
    "        k, idx, _ = kdtree.search_radius_vector_3d(cloud.points[seed_now], tolerance)\n",
    "        if k == 1 :\n",
    "            continue\n",
    "        idx = np.array(idx)\n",
    "        idx = idx[np.isin(idx, paves, invert=True)]\n",
    "        idx = idx[np.isin(idx, no_paves, invert=True)]\n",
    "        paves = np.append(paves, idx)\n",
    "        seed = np.append(seed,idx)\n",
    "        seed = np.delete(seed,[0])\n",
    "\n",
    "    return paves"
   ]
  },
  {
   "cell_type": "code",
   "execution_count": 15,
   "metadata": {},
   "outputs": [
    {
     "name": "stdout",
     "output_type": "stream",
     "text": [
      "[Open3D INFO] Picked point #7260 (-8.9, -13., -1.6) to add in queue.\n",
      "[Open3D INFO] Picked point #18021 (-4.2, -13., -1.6) to add in queue.\n",
      "[Open3D INFO] Picked point #30229 (-2.2, -12., -1.6) to add in queue.\n"
     ]
    }
   ],
   "source": [
    "pave = euclidean_cluster(dri,paves, tolerance=0.15)"
   ]
  },
  {
   "cell_type": "code",
   "execution_count": 16,
   "metadata": {},
   "outputs": [],
   "source": [
    "ground1 = paves.select_by_index(pave)\n",
    "o3d.visualization.draw_geometries([ground1])"
   ]
  }
 ],
 "metadata": {
  "kernelspec": {
   "display_name": "Point_Datas",
   "language": "python",
   "name": "python3"
  },
  "language_info": {
   "codemirror_mode": {
    "name": "ipython",
    "version": 3
   },
   "file_extension": ".py",
   "mimetype": "text/x-python",
   "name": "python",
   "nbconvert_exporter": "python",
   "pygments_lexer": "ipython3",
   "version": "3.10.10"
  },
  "orig_nbformat": 4
 },
 "nbformat": 4,
 "nbformat_minor": 2
}
