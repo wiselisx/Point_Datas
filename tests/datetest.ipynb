{
 "cells": [
  {
   "cell_type": "code",
   "execution_count": 12,
   "metadata": {},
   "outputs": [],
   "source": [
    "import open3d as o3d\n",
    "import numpy as np\n",
    "import sys"
   ]
  },
  {
   "cell_type": "code",
   "execution_count": 13,
   "metadata": {},
   "outputs": [],
   "source": [
    "sys.path.append('../sample')\n",
    "from readdatas import *"
   ]
  },
  {
   "cell_type": "code",
   "execution_count": 14,
   "metadata": {},
   "outputs": [],
   "source": [
    "path = '..\\Point Cloud Data\\Corner.ply'\n",
    "pcd =  ReadDatas(path)"
   ]
  },
  {
   "cell_type": "code",
   "execution_count": null,
   "metadata": {},
   "outputs": [],
   "source": [
    "o3d.visualization.draw_geometries([pcd.pcd])"
   ]
  },
  {
   "cell_type": "code",
   "execution_count": null,
   "metadata": {},
   "outputs": [],
   "source": [
    "csf = CsfGroundExtractor()\n",
    "csf.set_data(pcd)\n",
    "csf._process_data()"
   ]
  },
  {
   "cell_type": "code",
   "execution_count": null,
   "metadata": {},
   "outputs": [],
   "source": [
    "ran = RansacGroundExtractor()\n",
    "ran.set_data(pcd)\n",
    "ran._process_data()"
   ]
  },
  {
   "cell_type": "code",
   "execution_count": 15,
   "metadata": {},
   "outputs": [],
   "source": [
    "gpf = GpfGroundExtractor()\n",
    "gpf.set_data(pcd)\n",
    "gpf._process_data()"
   ]
  },
  {
   "cell_type": "code",
   "execution_count": 16,
   "metadata": {},
   "outputs": [],
   "source": [
    "ground_o3d = gpf.np_to_o3d(pcd.ground)"
   ]
  },
  {
   "cell_type": "code",
   "execution_count": null,
   "metadata": {},
   "outputs": [],
   "source": [
    "o3d.visualization.draw_geometries([ground_o3d])"
   ]
  },
  {
   "cell_type": "code",
   "execution_count": 6,
   "metadata": {},
   "outputs": [
    {
     "name": "stdout",
     "output_type": "stream",
     "text": [
      "[Open3D INFO] Picked point #16776 (-5.6, -13., -1.6) to add in queue.\n"
     ]
    }
   ],
   "source": [
    "reg = ReGrowSegment(pcd)\n",
    "reg._process_data()"
   ]
  },
  {
   "cell_type": "code",
   "execution_count": 20,
   "metadata": {},
   "outputs": [
    {
     "name": "stdout",
     "output_type": "stream",
     "text": [
      "[Open3D WARNING] GLFW Error: WGL: Failed to make context current: 不支持请求的转换操作。 \n",
      "[Open3D WARNING] GLFW Error: WGL: Failed to make context current: 句柄无效。 \n",
      "[Open3D INFO] Picked point #15094 (-14., -13., -1.6) to add in queue.\n",
      "[Open3D INFO] No point has been picked.\n",
      "[Open3D INFO] Picked point #13744 (-7.3, -13., -1.6) to add in queue.\n",
      "[Open3D INFO] Picked point #18456 (-3.8, -13., -1.6) to add in queue.\n",
      "[Open3D INFO] Picked point #31828 (-0.87, -12., -1.6) to add in queue.\n",
      "[Open3D INFO] Picked point #42546 (1.3, -11., -1.5) to add in queue.\n",
      "[Open3D INFO] Picked point #63408 (3.7, -8.5, -1.5) to add in queue.\n",
      "[Open3D INFO] Picked point #57249 (5.5, -5.0, -1.5) to add in queue.\n",
      "[Open3D INFO] Picked point #65974 (5.6, -1.0, -1.5) to add in queue.\n",
      "[Open3D INFO] No point has been picked.\n",
      "[Open3D INFO] Picked point #67408 (5.6, 6.0, -1.5) to add in queue.\n"
     ]
    }
   ],
   "source": [
    "dps = DriPathSegment2(pcd)\n"
   ]
  },
  {
   "cell_type": "code",
   "execution_count": 21,
   "metadata": {},
   "outputs": [],
   "source": [
    "\n",
    "dps._process_data()"
   ]
  },
  {
   "cell_type": "code",
   "execution_count": 10,
   "metadata": {},
   "outputs": [
    {
     "name": "stdout",
     "output_type": "stream",
     "text": [
      "[Open3D INFO] Picked point #15094 (-14., -13., -1.6) to add in queue.\n",
      "[Open3D INFO] No point has been picked.\n",
      "[Open3D INFO] Picked point #17810 (-3.1, -13., -1.6) to add in queue.\n",
      "[Open3D INFO] Picked point #25900 (-1.2, -13., -1.6) to add in queue.\n",
      "[Open3D INFO] Picked point #45467 (1.9, -11., -1.5) to add in queue.\n",
      "[Open3D INFO] Picked point #58076 (4.3, -7.3, -1.5) to add in queue.\n",
      "[Open3D INFO] Picked point #61289 (5.5, -4.5, -1.5) to add in queue.\n",
      "[Open3D INFO] Picked point #67539 (5.4, 0.76, -1.5) to add in queue.\n",
      "[Open3D INFO] Picked point #68850 (5.3, 5.9, -1.5) to add in queue.\n",
      "[Open3D INFO] Picked point #8029 (-7.0, -14., -1.6) to add in queue.\n"
     ]
    }
   ],
   "source": [
    "dri = DriPathSegment(pcd)\n",
    "dri._process_data()\n"
   ]
  },
  {
   "cell_type": "code",
   "execution_count": 17,
   "metadata": {},
   "outputs": [
    {
     "name": "stdout",
     "output_type": "stream",
     "text": [
      "[Open3D INFO] Picked point #17140 (-5.8, -13., -1.6) to add in queue.\n",
      "[Open3D WARNING] GLFW Error: WGL: Failed to make context current: 句柄无效。 \n"
     ]
    }
   ],
   "source": [
    "\n",
    "path = 'SVM_model.pkl'\n",
    "svm = SVM(pcd,path)\n",
    "svm._process_data()\n"
   ]
  },
  {
   "cell_type": "code",
   "execution_count": 9,
   "metadata": {},
   "outputs": [],
   "source": []
  },
  {
   "cell_type": "code",
   "execution_count": 11,
   "metadata": {},
   "outputs": [],
   "source": [
    "\n",
    "no_ground = gpf.np_to_o3d(pcd.no_ground)\n",
    "side = ground_o3d.select_by_index(pcd.side, invert= True)\n",
    "paves = pcd.no_side.select_by_index(pcd.paves)\n",
    "paves.paint_uniform_color([1,0,0])\n",
    "o3d.visualization.draw_geometries([paves,no_ground,side, pcd.no_side])"
   ]
  },
  {
   "cell_type": "code",
   "execution_count": 22,
   "metadata": {},
   "outputs": [],
   "source": [
    "paves = ground_o3d.select_by_index(pcd.paves)\n",
    "no_paves = ground_o3d.select_by_index(pcd.paves, invert=True)\n",
    "no_ground = gpf.np_to_o3d(pcd.no_ground)\n",
    "paves.paint_uniform_color([1,0,0])\n",
    "o3d.visualization.draw_geometries([no_paves,paves,no_ground])"
   ]
  },
  {
   "cell_type": "code",
   "execution_count": 10,
   "metadata": {},
   "outputs": [
    {
     "ename": "AttributeError",
     "evalue": "'ReadDatas' object has no attribute 'no_side'",
     "output_type": "error",
     "traceback": [
      "\u001b[1;31m---------------------------------------------------------------------------\u001b[0m",
      "\u001b[1;31mAttributeError\u001b[0m                            Traceback (most recent call last)",
      "Cell \u001b[1;32mIn[10], line 1\u001b[0m\n\u001b[1;32m----> 1\u001b[0m paves \u001b[39m=\u001b[39m pcd\u001b[39m.\u001b[39;49mno_side\u001b[39m.\u001b[39mselect_by_index(pcd\u001b[39m.\u001b[39mpaves)\n\u001b[0;32m      2\u001b[0m paves\u001b[39m.\u001b[39mpaint_uniform_color([\u001b[39m1\u001b[39m,\u001b[39m0\u001b[39m,\u001b[39m0\u001b[39m])\n\u001b[0;32m      3\u001b[0m no_ground \u001b[39m=\u001b[39m gpf\u001b[39m.\u001b[39mnp_to_o3d(pcd\u001b[39m.\u001b[39mno_ground)\n",
      "\u001b[1;31mAttributeError\u001b[0m: 'ReadDatas' object has no attribute 'no_side'"
     ]
    }
   ],
   "source": [
    "paves = pcd.no_side.select_by_index(pcd.paves)\n",
    "paves.paint_uniform_color([1,0,0])\n",
    "no_ground = gpf.np_to_o3d(pcd.no_ground)\n",
    "o3d.visualization.draw_geometries([paves,no_ground])"
   ]
  },
  {
   "cell_type": "code",
   "execution_count": null,
   "metadata": {},
   "outputs": [],
   "source": [
    "o3d.visualization.draw_geometries([paves])"
   ]
  },
  {
   "cell_type": "code",
   "execution_count": null,
   "metadata": {},
   "outputs": [],
   "source": [
    "pave = euclidean_cluster(dri,paves, tolerance=0.15)"
   ]
  },
  {
   "cell_type": "code",
   "execution_count": null,
   "metadata": {},
   "outputs": [],
   "source": [
    "ground1 = paves.select_by_index(pave)\n",
    "o3d.visualization.draw_geometries([ground1])"
   ]
  }
 ],
 "metadata": {
  "kernelspec": {
   "display_name": "Point_Datas",
   "language": "python",
   "name": "python3"
  },
  "language_info": {
   "codemirror_mode": {
    "name": "ipython",
    "version": 3
   },
   "file_extension": ".py",
   "mimetype": "text/x-python",
   "name": "python",
   "nbconvert_exporter": "python",
   "pygments_lexer": "ipython3",
   "version": "3.10.10"
  },
  "orig_nbformat": 4
 },
 "nbformat": 4,
 "nbformat_minor": 2
}
