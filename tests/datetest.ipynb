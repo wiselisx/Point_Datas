{
 "cells": [
  {
   "cell_type": "code",
   "execution_count": 3,
   "metadata": {},
   "outputs": [],
   "source": [
    "import open3d as o3d\n",
    "import numpy as np\n",
    "import sys"
   ]
  },
  {
   "cell_type": "code",
   "execution_count": 5,
   "metadata": {},
   "outputs": [],
   "source": [
    "sys.path.append('../sample')\n",
    "from readdatas import *"
   ]
  },
  {
   "cell_type": "code",
   "execution_count": 6,
   "metadata": {},
   "outputs": [],
   "source": [
    "path = '..\\Point Cloud Data\\Corner.ply'\n",
    "pcd =  ReadDatas(path)"
   ]
  },
  {
   "cell_type": "code",
   "execution_count": 7,
   "metadata": {},
   "outputs": [],
   "source": [
    "o3d.visualization.draw_geometries([pcd.pcd])"
   ]
  },
  {
   "cell_type": "code",
   "execution_count": 5,
   "metadata": {},
   "outputs": [],
   "source": [
    "csf = CsfGroundExtractor()\n",
    "csf.set_data(pcd)\n",
    "csf._process_data()"
   ]
  },
  {
   "cell_type": "code",
   "execution_count": 15,
   "metadata": {},
   "outputs": [],
   "source": [
    "ran = RansacGroundExtractor()\n",
    "ran.set_data(pcd)\n",
    "ran._process_data()"
   ]
  },
  {
   "cell_type": "code",
   "execution_count": 8,
   "metadata": {},
   "outputs": [],
   "source": [
    "gpf = GpfGroundExtractor()\n",
    "gpf.set_data(pcd)\n",
    "gpf._process_data()"
   ]
  },
  {
   "cell_type": "code",
   "execution_count": 9,
   "metadata": {},
   "outputs": [],
   "source": [
    "ground= gpf.np_to_o3d(pcd.ground)"
   ]
  },
  {
   "cell_type": "code",
   "execution_count": 10,
   "metadata": {},
   "outputs": [],
   "source": [
    "o3d.visualization.draw_geometries([ground])"
   ]
  },
  {
   "cell_type": "code",
   "execution_count": 14,
   "metadata": {},
   "outputs": [
    {
     "name": "stdout",
     "output_type": "stream",
     "text": [
      "[Open3D INFO] Picked point #18116 (-5.2, -13., -1.6) to add in queue.\n",
      "[Open3D INFO] Picked point #28121 (-1.8, -12., -1.6) to add in queue.\n",
      "[Open3D WARNING] GLFW Error: WGL: Failed to make context current: 句柄无效。 \n",
      "[Open3D WARNING] GLFW Error: WGL: Failed to make context current: 句柄无效。 \n",
      "[Open3D WARNING] GLFW Error: WGL: Failed to make context current: 不支持请求的转换操作。 \n"
     ]
    }
   ],
   "source": [
    "reg = ReGrowSegment()\n",
    "reg.set_data(pcd)\n",
    "reg._process_data()"
   ]
  },
  {
   "cell_type": "code",
   "execution_count": 15,
   "metadata": {},
   "outputs": [],
   "source": [
    "no_ground = gpf.np_to_o3d(pcd.no_ground)\n",
    "no_paves = ground.select_by_index(pcd.paves,invert = True)"
   ]
  },
  {
   "cell_type": "code",
   "execution_count": 16,
   "metadata": {},
   "outputs": [],
   "source": [
    "paves = ground.select_by_index(pcd.paves)\n",
    "o3d.visualization.draw_geometries([paves])"
   ]
  },
  {
   "cell_type": "code",
   "execution_count": 25,
   "metadata": {},
   "outputs": [
    {
     "data": {
      "text/plain": [
       "PointCloud with 60751 points."
      ]
     },
     "execution_count": 25,
     "metadata": {},
     "output_type": "execute_result"
    }
   ],
   "source": [
    "paves.paint_uniform_color([1,0,0])"
   ]
  },
  {
   "cell_type": "code",
   "execution_count": 26,
   "metadata": {},
   "outputs": [
    {
     "name": "stdout",
     "output_type": "stream",
     "text": [
      "[Open3D WARNING] GLFW Error: WGL: Failed to make context current: 不支持请求的转换操作。 \n"
     ]
    }
   ],
   "source": [
    "o3d.visualization.draw_geometries([no_paves,paves,no_ground])"
   ]
  },
  {
   "cell_type": "code",
   "execution_count": 7,
   "metadata": {},
   "outputs": [
    {
     "name": "stdout",
     "output_type": "stream",
     "text": [
      "[Open3D WARNING] GLFW Error: WGL: Failed to make context current: 不支持请求的转换操作。 \n",
      "[Open3D INFO] Picked point #15094 (-14., -13., -1.6) to add in queue.\n",
      "[Open3D INFO] Picked point #17843 (-5.4, -13., -1.6) to add in queue.\n",
      "[Open3D INFO] Picked point #47538 (1.8, -10., -1.5) to add in queue.\n",
      "[Open3D INFO] Picked point #56860 (4.8, -5.8, -1.5) to add in queue.\n",
      "[Open3D INFO] Picked point #67809 (5.3, -2.0, -1.5) to add in queue.\n",
      "[Open3D WARNING] GLFW Error: WGL: Failed to make context current: 不支持请求的转换操作。 \n",
      "[Open3D INFO] No point has been picked.\n",
      "[Open3D INFO] Picked point #69018 (5.3, 5.9, -1.5) to add in queue.\n"
     ]
    }
   ],
   "source": [
    "dri = DriPathSegment()\n",
    "dri.set_data(pcd)\n",
    "dri._process_data()"
   ]
  },
  {
   "cell_type": "code",
   "execution_count": 8,
   "metadata": {},
   "outputs": [],
   "source": [
    "paves  = ground.select_by_index(pcd.no_paves, invert = True)"
   ]
  },
  {
   "cell_type": "code",
   "execution_count": 9,
   "metadata": {},
   "outputs": [],
   "source": [
    "o3d.visualization.draw_geometries([paves])"
   ]
  },
  {
   "cell_type": "code",
   "execution_count": 15,
   "metadata": {},
   "outputs": [],
   "source": [
    "def euclidean_cluster(dps,cloud, tolerance=0.2):\n",
    "    seed = dps.seed_select(cloud)\n",
    "    no_paves = dps.find_no_paves(cloud)\n",
    "    paves = np.asarray(cloud.points)\n",
    "    no_paves = dps.find_index(paves, no_paves)\n",
    "    kdtree = o3d.geometry.KDTreeFlann(cloud)\n",
    "    paves = np.array(seed)\n",
    "    while len(seed) > 0 :\n",
    "        seed_now = seed[0]\n",
    "        k, idx, _ = kdtree.search_radius_vector_3d(cloud.points[seed_now], tolerance)\n",
    "        if k == 1 :\n",
    "            continue\n",
    "        idx = np.array(idx)\n",
    "        idx = idx[np.isin(idx, paves, invert=True)]\n",
    "        idx = idx[np.isin(idx, no_paves, invert=True)]\n",
    "        paves = np.append(paves, idx)\n",
    "        seed = np.append(seed,idx)\n",
    "        seed = np.delete(seed,[0])\n",
    "\n",
    "    return paves"
   ]
  },
  {
   "cell_type": "code",
   "execution_count": 21,
   "metadata": {},
   "outputs": [
    {
     "name": "stdout",
     "output_type": "stream",
     "text": [
      "[Open3D INFO] Picked point #15063 (-7.0, -13., -1.6) to add in queue.\n",
      "[Open3D INFO] Picked point #37270 (-0.21, -11., -1.5) to add in queue.\n",
      "[Open3D INFO] Picked point #56882 (4.6, -9.3, -1.5) to add in queue.\n",
      "[Open3D WARNING] GLFW Error: WGL: Failed to make context current: 句柄无效。 \n"
     ]
    }
   ],
   "source": [
    "pave = euclidean_cluster(dri,paves, tolerance=0.15)"
   ]
  },
  {
   "cell_type": "code",
   "execution_count": 20,
   "metadata": {},
   "outputs": [],
   "source": [
    "ground1 = paves.select_by_index(pave)\n",
    "o3d.visualization.draw_geometries([ground1])"
   ]
  }
 ],
 "metadata": {
  "kernelspec": {
   "display_name": "Point_Datas",
   "language": "python",
   "name": "python3"
  },
  "language_info": {
   "codemirror_mode": {
    "name": "ipython",
    "version": 3
   },
   "file_extension": ".py",
   "mimetype": "text/x-python",
   "name": "python",
   "nbconvert_exporter": "python",
   "pygments_lexer": "ipython3",
   "version": "3.10.10"
  },
  "orig_nbformat": 4
 },
 "nbformat": 4,
 "nbformat_minor": 2
}
