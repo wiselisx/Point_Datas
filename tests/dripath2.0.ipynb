{
 "cells": [
  {
   "cell_type": "code",
   "execution_count": 1,
   "metadata": {},
   "outputs": [
    {
     "name": "stdout",
     "output_type": "stream",
     "text": [
      "Jupyter environment detected. Enabling Open3D WebVisualizer.\n",
      "[Open3D INFO] WebRTC GUI backend enabled.\n",
      "[Open3D INFO] WebRTCWindowSystem: HTTP handshake server disabled.\n"
     ]
    }
   ],
   "source": [
    "import open3d as o3d\n",
    "import numpy as np\n",
    "import sys"
   ]
  },
  {
   "cell_type": "code",
   "execution_count": 2,
   "metadata": {},
   "outputs": [],
   "source": [
    "sys.path.append('../sample')\n",
    "from readdatas import *"
   ]
  },
  {
   "cell_type": "code",
   "execution_count": 3,
   "metadata": {},
   "outputs": [],
   "source": [
    "path = '..\\Point Cloud Data\\Corner.ply'\n",
    "pcd =  ReadDatas(path)"
   ]
  },
  {
   "cell_type": "code",
   "execution_count": 4,
   "metadata": {},
   "outputs": [],
   "source": [
    "gpf = GpfGroundExtractor()\n",
    "gpf.set_data(pcd)\n",
    "gpf._process_data()"
   ]
  },
  {
   "cell_type": "code",
   "execution_count": 5,
   "metadata": {},
   "outputs": [],
   "source": [
    "ground = pcd.ground\n",
    "ground_o3d = gpf.np_to_o3d(pcd.ground)"
   ]
  },
  {
   "cell_type": "code",
   "execution_count": 6,
   "metadata": {},
   "outputs": [],
   "source": [
    "class DriPathSegment2(BaseAlgorithm):\n",
    "\n",
    "    def __init__(self,data):\n",
    "        \n",
    "        self.data = data\n",
    "        self.ground = self.data.ground\n",
    "        ground_o3d = self.np_to_o3d(ground)\n",
    "        self.ground_nor = np.asarray(ground_o3d.normals)\n",
    "        driving_track_seed = self.seed_select(ground_o3d)\n",
    "        driving_track = self.driving_path_generation(driving_track_seed, ground_o3d)\n",
    "        driving_track_o3d = self.np_to_o3d(driving_track)\n",
    "        driving_track = self.find_nearest_point(ground_o3d, driving_track_o3d)\n",
    "        self.density = self.calculate_linear_density(ground_o3d)\n",
    "        driving_track_o3d = ground_o3d.select_by_index(driving_track)\n",
    "        self.point_neighbours = self.find_nearest_point(driving_track_o3d,ground_o3d)\n",
    "        self.driving_track = np.asarray(driving_track_o3d.points)       \n",
    "\n",
    "\n",
    "    def _process_data(self):\n",
    "\n",
    "        index_all = np.array(range(len(ground)))\n",
    "        no_paves = np.array([0])\n",
    "        paves = np.array([0])\n",
    "\n",
    "        for i in range(len(self.driving_track)):\n",
    "            slim = self.ground[self.point_neighbours[:,0] == i]\n",
    "            slim_index = index_all[self.point_neighbours[:,0] == i]\n",
    "            if len(slim) > 0:\n",
    "                slim_nor = self.ground_nor[self.point_neighbours[:,0] == i]\n",
    "                slim_distance = np.sqrt(np.sum(np.power(slim - self.driving_track[i,:],2),axis = 1))\n",
    "                driving_track_point = slim_distance.argmin()\n",
    "                driving_track_point = slim_nor[driving_track_point,:]\n",
    "                included_angle = np.fabs(np.dot(slim_nor, driving_track_point))\n",
    "                no_paves_slim = included_angle <= self.data.cosine_threshold\n",
    "                paves_slim = included_angle > self.data.cosine_threshold\n",
    "\n",
    "                slim_distance = slim_distance[paves_slim]\n",
    "                if len(slim_distance) > 0:\n",
    "\n",
    "                    paves_slim_h = slim[paves_slim,2].reshape(1,-1)\n",
    "                    paves_slim = slim_index[paves_slim]\n",
    "                    arr = np.argsort(paves_slim_h)\n",
    "                    paves_slim_h = paves_slim_h[arr]\n",
    "                    diff_arr = np.diff(paves_slim_h)\n",
    "                    stop_index = np.where(diff_arr > 3 * self.density)[0][0] + 1\n",
    "                    arr = arr[:stop_index]\n",
    "                    paves_slim = paves_slim[arr]\n",
    "                    slim_distance = slim_distance[arr]\n",
    "                    arr = np.argsort(slim_distance)\n",
    "                    slim_distance = np.sort(slim_distance)\n",
    "                    slim_distance = slim_distance[arr]\n",
    "                    diff_arr = np.diff(slim_distance)\n",
    "                    stop_index = np.where(diff_arr > 5 * self.density)[0][0] + 1\n",
    "                    paves_slim = paves_slim[:stop_index]\n",
    "                    paves = np.concatenate((paves,paves_slim),axis=0)\n",
    "                no_paves = np.concatenate((no_paves,slim_index[no_paves_slim]),axis=0)\n",
    "\n",
    "        self.data.paves = np.delete(paves,0,0)     \n",
    "        self.data.no_paves = np.delete(no_paves,0,0)"
   ]
  },
  {
   "cell_type": "code",
   "execution_count": 14,
   "metadata": {},
   "outputs": [
    {
     "name": "stdout",
     "output_type": "stream",
     "text": [
      "[Open3D INFO] Picked point #15094 (-14., -13., -1.6) to add in queue.\n",
      "[Open3D INFO] Picked point #14564 (-6.5, -13., -1.6) to add in queue.\n",
      "[Open3D INFO] No point has been picked.\n",
      "[Open3D INFO] Picked point #31826 (-1.2, -12., -1.6) to add in queue.\n",
      "[Open3D INFO] Picked point #56710 (2.9, -9.1, -1.5) to add in queue.\n",
      "[Open3D INFO] Picked point #61957 (4.7, -5.3, -1.5) to add in queue.\n",
      "[Open3D INFO] Picked point #69091 (5.1, -2.1, -1.5) to add in queue.\n",
      "[Open3D INFO] No point has been picked.\n",
      "[Open3D INFO] Picked point #68174 (5.3, 3.4, -1.5) to add in queue.\n",
      "[Open3D INFO] Picked point #69518 (5.2, 5.9, -1.5) to add in queue.\n"
     ]
    }
   ],
   "source": [
    "dps = DriPathSegment2(pcd)"
   ]
  },
  {
   "cell_type": "code",
   "execution_count": 15,
   "metadata": {},
   "outputs": [],
   "source": [
    "def process_data(dps):\n",
    "\n",
    "        index_all = np.array(range(len(ground)))\n",
    "        no_paves = np.array([0])\n",
    "        paves = np.array([0])\n",
    "\n",
    "        for i in range(len(dps.driving_track)):\n",
    "            slim = dps.ground[dps.point_neighbours[:,0] == i]\n",
    "            slim_index = index_all[dps.point_neighbours[:,0] == i]\n",
    "            if len(slim) > 0:\n",
    "               slim_nor = dps.ground_nor[dps.point_neighbours[:,0] == i]\n",
    "               slim_distance = np.sqrt(np.sum(np.power(slim - dps.driving_track[i,:],2),axis = 1))\n",
    "               driving_track_point = slim_distance.argmin()\n",
    "               driving_track_point = slim_nor[driving_track_point,:]\n",
    "               included_angle = np.fabs(np.dot(slim_nor, driving_track_point))\n",
    "               no_paves_slim = included_angle <= dps.data.cosine_threshold\n",
    "               paves_slim = included_angle > dps.data.cosine_threshold\n",
    "\n",
    "               slim_distance = slim_distance[paves_slim]\n",
    "               if len(slim_distance) > 0:\n",
    "\n",
    "                    paves_slim_h = slim[paves_slim,2].reshape(1,-1)\n",
    "                    paves_slim = slim_index[paves_slim]\n",
    "                    arr = np.argsort(paves_slim_h)[0]\n",
    "                    paves_slim_h = np.sort(paves_slim_h)\n",
    "                    diff_arr = np.diff(paves_slim_h)[0]\n",
    "                    stop_index = np.where(diff_arr > 2 * dps.density)\n",
    "                    if len(stop_index[0]) > 0:\n",
    "                         stop_index = stop_index[0]\n",
    "                         stop_index +=1\n",
    "                         stop_index = stop_index[0]\n",
    "                    else:\n",
    "                         stop_index = paves_slim_h.shape[1]\n",
    "\n",
    "                    \n",
    "                    arr = arr[:stop_index]\n",
    "                    paves_slim = paves_slim[arr]\n",
    "                    slim_distance = slim_distance[arr]\n",
    "                    arr = np.argsort(slim_distance)\n",
    "                    slim_distance = np.sort(slim_distance)\n",
    "                    diff_arr = np.diff(slim_distance)\n",
    "                    stop_index = np.where(diff_arr > 2 * dps.density)\n",
    "                    if len(stop_index[0]) > 0:\n",
    "                         stop_index = stop_index[0]\n",
    "                         stop_index +=1\n",
    "                         stop_index = stop_index[0]\n",
    "                    else:\n",
    "                         stop_index = slim_distance.shape[0]\n",
    "                    arr = arr[:stop_index]\n",
    "                    paves_slim = paves_slim[arr]\n",
    "                    paves = np.concatenate((paves, paves_slim),axis=0)\n",
    "               # paves = np.concatenate((paves, slim_index[paves_slim]),axis=0)\n",
    "               no_paves = np.concatenate((no_paves, slim_index[no_paves_slim]),axis=0)\n",
    "\n",
    "        dps.data.paves = np.delete(paves,0,0)     \n",
    "        dps.data.no_paves = np.delete(no_paves,0,0)"
   ]
  },
  {
   "cell_type": "code",
   "execution_count": 16,
   "metadata": {},
   "outputs": [],
   "source": [
    "process_data(dps)"
   ]
  },
  {
   "cell_type": "code",
   "execution_count": 17,
   "metadata": {},
   "outputs": [],
   "source": [
    "paves = ground_o3d.select_by_index(pcd.paves)\n",
    "no_paves = ground_o3d.select_by_index(pcd.no_paves)\n",
    "o3d.visualization.draw_geometries([paves])"
   ]
  },
  {
   "cell_type": "code",
   "execution_count": null,
   "metadata": {},
   "outputs": [],
   "source": []
  }
 ],
 "metadata": {
  "kernelspec": {
   "display_name": "Point_Datas",
   "language": "python",
   "name": "python3"
  },
  "language_info": {
   "codemirror_mode": {
    "name": "ipython",
    "version": 3
   },
   "file_extension": ".py",
   "mimetype": "text/x-python",
   "name": "python",
   "nbconvert_exporter": "python",
   "pygments_lexer": "ipython3",
   "version": "3.10.10"
  },
  "orig_nbformat": 4,
  "vscode": {
   "interpreter": {
    "hash": "464648088c00e173b70600e06c85393a3edebab204038748415719ab367f57ba"
   }
  }
 },
 "nbformat": 4,
 "nbformat_minor": 2
}
