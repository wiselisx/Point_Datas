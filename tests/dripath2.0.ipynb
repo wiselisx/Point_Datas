{
 "cells": [
  {
   "cell_type": "code",
   "execution_count": 1,
   "metadata": {},
   "outputs": [
    {
     "name": "stdout",
     "output_type": "stream",
     "text": [
      "Jupyter environment detected. Enabling Open3D WebVisualizer.\n",
      "[Open3D INFO] WebRTC GUI backend enabled.\n",
      "[Open3D INFO] WebRTCWindowSystem: HTTP handshake server disabled.\n"
     ]
    }
   ],
   "source": [
    "import open3d as o3d\n",
    "import numpy as np\n",
    "import sys"
   ]
  },
  {
   "cell_type": "code",
   "execution_count": 2,
   "metadata": {},
   "outputs": [],
   "source": [
    "sys.path.append('../sample')\n",
    "from readdatas import *"
   ]
  },
  {
   "cell_type": "code",
   "execution_count": 3,
   "metadata": {},
   "outputs": [],
   "source": [
    "path = '..\\Point Cloud Data\\Corner.ply'\n",
    "pcd =  ReadDatas(path)"
   ]
  },
  {
   "cell_type": "code",
   "execution_count": 4,
   "metadata": {},
   "outputs": [],
   "source": [
    "gpf = GpfGroundExtractor()\n",
    "gpf.set_data(pcd)\n",
    "gpf._process_data()"
   ]
  },
  {
   "cell_type": "code",
   "execution_count": 5,
   "metadata": {},
   "outputs": [],
   "source": [
    "ground = pcd.ground\n",
    "ground_o3d = gpf.np_to_o3d(pcd.ground)"
   ]
  },
  {
   "cell_type": "code",
   "execution_count": 6,
   "metadata": {},
   "outputs": [],
   "source": [
    "class DriPathSegment2(BaseAlgorithm):\n",
    "\n",
    "    def __init__(self,data):\n",
    "        \n",
    "        self.data = data\n",
    "        self.ground = self.data.ground\n",
    "        ground_o3d = self.np_to_o3d(ground)\n",
    "        self.ground_nor = np.asarray(ground_o3d.normals)\n",
    "        driving_track_seed = self.seed_select(ground_o3d)\n",
    "        driving_track = self.driving_path_generation(driving_track_seed, ground_o3d)\n",
    "        driving_track_o3d = self.np_to_o3d(driving_track)\n",
    "        driving_track = self.find_nearest_point(ground_o3d, driving_track_o3d)\n",
    "        self.density = self.calculate_linear_density(ground_o3d)\n",
    "        driving_track_o3d = ground_o3d.select_by_index(driving_track)\n",
    "        self.point_neighbours = self.find_nearest_point(driving_track_o3d,ground_o3d)\n",
    "        self.driving_track = np.asarray(driving_track_o3d.points)       \n",
    "\n",
    "\n",
    "    def _process_data(self):\n",
    "\n",
    "        index_all = np.array(range(len(ground)))\n",
    "        no_paves = np.array([0])\n",
    "        paves = np.array([0])\n",
    "\n",
    "        for i in range(len(self.driving_track)):\n",
    "            slim = self.ground[self.point_neighbours[:,0] == i]\n",
    "            slim_index = index_all[self.point_neighbours[:,0] == i]\n",
    "            if len(slim) > 0:\n",
    "                slim_nor = self.ground_nor[self.point_neighbours[:,0] == i]\n",
    "                slim_distance = np.sqrt(np.sum(np.power(slim - self.driving_track[i,:],2),axis = 1))\n",
    "                driving_track_point = slim_distance.argmin()\n",
    "                driving_track_point = slim_nor[driving_track_point,:]\n",
    "                included_angle = np.fabs(np.dot(slim_nor, driving_track_point))\n",
    "                no_paves_slim = included_angle <= self.data.cosine_threshold\n",
    "                paves_slim = included_angle > self.data.cosine_threshold\n",
    "\n",
    "                slim_distance = slim_distance[paves_slim]\n",
    "                if len(slim_distance) > 0:\n",
    "\n",
    "                    paves_slim_h = slim[paves_slim,2].reshape(1,-1)\n",
    "                    paves_slim = slim_index[paves_slim]\n",
    "                    arr = np.argsort(paves_slim_h)\n",
    "                    paves_slim_h = paves_slim_h[arr]\n",
    "                    diff_arr = np.diff(paves_slim_h)\n",
    "                    stop_index = np.where(diff_arr > 3 * self.density)[0][0] + 1\n",
    "                    arr = arr[:stop_index]\n",
    "                    paves_slim = paves_slim[arr]\n",
    "                    slim_distance = slim_distance[arr]\n",
    "                    arr = np.argsort(slim_distance)\n",
    "                    slim_distance = np.sort(slim_distance)\n",
    "                    slim_distance = slim_distance[arr]\n",
    "                    diff_arr = np.diff(slim_distance)\n",
    "                    stop_index = np.where(diff_arr > 5 * self.density)[0][0] + 1\n",
    "                    paves_slim = paves_slim[:stop_index]\n",
    "                    paves = np.concatenate((paves,paves_slim),axis=0)\n",
    "                no_paves = np.concatenate((no_paves,slim_index[no_paves_slim]),axis=0)\n",
    "\n",
    "        self.data.paves = np.delete(paves,0,0)     \n",
    "        self.data.no_paves = np.delete(no_paves,0,0)"
   ]
  },
  {
   "cell_type": "code",
   "execution_count": 7,
   "metadata": {},
   "outputs": [
    {
     "name": "stdout",
     "output_type": "stream",
     "text": [
      "[Open3D INFO] Picked point #15665 (-14., -13., -1.6) to add in queue.\n",
      "[Open3D INFO] Picked point #18801 (-3.2, -13., -1.6) to add in queue.\n",
      "[Open3D INFO] Picked point #61138 (3.6, -8.8, -1.5) to add in queue.\n",
      "[Open3D INFO] Picked point #69073 (5.0, -2.8, -1.5) to add in queue.\n",
      "[Open3D INFO] Picked point #70620 (4.9, 6.0, -1.5) to add in queue.\n"
     ]
    }
   ],
   "source": [
    "dps = DriPathSegment2(pcd)"
   ]
  },
  {
   "cell_type": "code",
   "execution_count": 46,
   "metadata": {},
   "outputs": [],
   "source": [
    "def process_data(dps):\n",
    "\n",
    "        index_all = np.array(range(len(ground)))\n",
    "        no_paves = np.array([0])\n",
    "        paves = np.array([0])\n",
    "\n",
    "        for i in range(len(dps.driving_track)):\n",
    "            slim = dps.ground[dps.point_neighbours[:,0] == i]\n",
    "            slim_index = index_all[dps.point_neighbours[:,0] == i]\n",
    "            if len(slim) > 0:\n",
    "                slim_nor = dps.ground_nor[dps.point_neighbours[:,0] == i]\n",
    "                slim_distance = np.sqrt(np.sum(np.power(slim - dps.driving_track[i,:],2),axis = 1))\n",
    "                driving_track_point = slim_distance.argmin()\n",
    "                driving_track_point = slim_nor[driving_track_point,:]\n",
    "                included_angle = np.fabs(np.dot(slim_nor, driving_track_point))\n",
    "                no_paves_slim = included_angle <= dps.data.cosine_threshold\n",
    "                paves_slim = included_angle > dps.data.cosine_threshold\n",
    "\n",
    "                slim_distance = slim_distance[paves_slim]\n",
    "                if len(slim_distance) > 0:\n",
    "\n",
    "                    paves_slim_h = slim[paves_slim,2].reshape(1,-1)\n",
    "                    paves_slim = slim_index[paves_slim]\n",
    "                    arr = np.argsort(paves_slim_h)[0]\n",
    "                    paves_slim_h = np.sort(paves_slim_h)\n",
    "                    diff_arr = np.diff(paves_slim_h)[0]\n",
    "                    stop_index = np.where(diff_arr > 2 * dps.density)\n",
    "                    if len(stop_index[0]):\n",
    "                         stop_index = stop_index[0]\n",
    "                         stop_index +=1 \n",
    "                    else:\n",
    "                         stop_index = len(paves_slim_h)\n",
    "\n",
    "                    \n",
    "                    arr = arr[:stop_index]\n",
    "                    paves_slim = paves_slim[arr]\n",
    "                    slim_distance = slim_distance[arr]\n",
    "                    arr = np.argsort(slim_distance)\n",
    "                    slim_distance = np.sort(slim_distance)\n",
    "                    diff_arr = np.diff(slim_distance)\n",
    "                    stop_index = np.where(diff_arr > 5 * dps.density)\n",
    "                    if len(stop_index[0]) > 0:\n",
    "                         stop_index = stop_index[0]\n",
    "                         stop_index +=1\n",
    "                    else:\n",
    "                         stop_index = len(slim_distance)\n",
    "\n",
    "                    paves_slim = paves_slim[:stop_index]\n",
    "                    paves = np.concatenate((paves,paves_slim),axis=0)\n",
    "                no_paves = np.concatenate((no_paves,slim_index[no_paves_slim]),axis=0)\n",
    "\n",
    "        dps.data.paves = np.delete(paves,0,0)     \n",
    "        dps.data.no_paves = np.delete(no_paves,0,0)"
   ]
  },
  {
   "cell_type": "code",
   "execution_count": 49,
   "metadata": {},
   "outputs": [
    {
     "ename": "TypeError",
     "evalue": "only integer scalar arrays can be converted to a scalar index",
     "output_type": "error",
     "traceback": [
      "\u001b[1;31m---------------------------------------------------------------------------\u001b[0m",
      "\u001b[1;31mTypeError\u001b[0m                                 Traceback (most recent call last)",
      "Cell \u001b[1;32mIn[49], line 1\u001b[0m\n\u001b[1;32m----> 1\u001b[0m process_data(dps)\n",
      "Cell \u001b[1;32mIn[46], line 35\u001b[0m, in \u001b[0;36mprocess_data\u001b[1;34m(dps)\u001b[0m\n\u001b[0;32m     31\u001b[0m \u001b[39melse\u001b[39;00m:\n\u001b[0;32m     32\u001b[0m      stop_index \u001b[39m=\u001b[39m \u001b[39mlen\u001b[39m(paves_slim_h)\n\u001b[1;32m---> 35\u001b[0m arr \u001b[39m=\u001b[39m arr[:stop_index]\n\u001b[0;32m     36\u001b[0m paves_slim \u001b[39m=\u001b[39m paves_slim[arr]\n\u001b[0;32m     37\u001b[0m slim_distance \u001b[39m=\u001b[39m slim_distance[arr]\n",
      "\u001b[1;31mTypeError\u001b[0m: only integer scalar arrays can be converted to a scalar index"
     ]
    }
   ],
   "source": [
    "process_data(dps)"
   ]
  }
 ],
 "metadata": {
  "kernelspec": {
   "display_name": "Point_Datas",
   "language": "python",
   "name": "python3"
  },
  "language_info": {
   "codemirror_mode": {
    "name": "ipython",
    "version": 3
   },
   "file_extension": ".py",
   "mimetype": "text/x-python",
   "name": "python",
   "nbconvert_exporter": "python",
   "pygments_lexer": "ipython3",
   "version": "3.10.8"
  },
  "orig_nbformat": 4,
  "vscode": {
   "interpreter": {
    "hash": "464648088c00e173b70600e06c85393a3edebab204038748415719ab367f57ba"
   }
  }
 },
 "nbformat": 4,
 "nbformat_minor": 2
}
