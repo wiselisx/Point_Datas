{
 "cells": [
  {
   "cell_type": "code",
   "execution_count": 1,
   "metadata": {},
   "outputs": [
    {
     "name": "stdout",
     "output_type": "stream",
     "text": [
      "Jupyter environment detected. Enabling Open3D WebVisualizer.\n",
      "[Open3D INFO] WebRTC GUI backend enabled.\n",
      "[Open3D INFO] WebRTCWindowSystem: HTTP handshake server disabled.\n"
     ]
    }
   ],
   "source": [
    "import open3d as o3d\n",
    "import numpy as np\n",
    "import sys\n",
    "import joblib"
   ]
  },
  {
   "cell_type": "code",
   "execution_count": 2,
   "metadata": {},
   "outputs": [],
   "source": [
    "from sklearn import svm\n",
    "from sklearn.model_selection import train_test_split\n",
    "from sklearn.metrics import accuracy_score"
   ]
  },
  {
   "cell_type": "code",
   "execution_count": 3,
   "metadata": {},
   "outputs": [],
   "source": [
    "sys.path.append('../sample')\n",
    "from readdatas import *"
   ]
  },
  {
   "cell_type": "code",
   "execution_count": 4,
   "metadata": {},
   "outputs": [],
   "source": [
    "path = 'D:\\project\\Point_Datas\\Point Cloud Data\\Corner.ply'\n",
    "pcd =  ReadDatas(path)"
   ]
  },
  {
   "cell_type": "code",
   "execution_count": 5,
   "metadata": {},
   "outputs": [],
   "source": [
    "gpf = GpfGroundExtractor()\n",
    "gpf.set_data(pcd)\n",
    "gpf._process_data()"
   ]
  },
  {
   "cell_type": "code",
   "execution_count": 9,
   "metadata": {},
   "outputs": [],
   "source": [
    "class SVM(BaseAlgorithm):\n",
    "\n",
    "    def __init__(self, data, path):\n",
    "        self.data = data;\n",
    "        self.ground = data.ground\n",
    "        self.ground_o3d = self.np_to_o3d(self.ground)\n",
    "        self.ground_nor = np.asarray(self.ground_o3d.normals)\n",
    "        self.feature_vector = self.get_feature_vector()\n",
    "        self.path = path\n",
    "\n",
    "    def _process_data(self):\n",
    "        clf = joblib.load(self.path)\n",
    "        y_pred_all = clf.predict(self.feature_vector)\n",
    "        index = np.array(range(len(pcd.ground)))\n",
    "        index = index[y_pred_all]\n",
    "        self.no_side = self.ground_o3d.select_by_index(index)\n",
    "        self.data.paves = self.euclidean_cluster(self.no_side)   # 欧拉点数目大于150个的点都是avaible for pave. 大约6000个点\n",
    "\n",
    "\n",
    "    def euclidean_cluster(self,cloud, tolerance=0.2):\n",
    "        seed = self.seed_select(cloud)\n",
    "        no_paves = self.find_no_paves(cloud)\n",
    "        paves = np.asarray(cloud.points)\n",
    "        no_paves = self.find_index(paves, no_paves)\n",
    "        kdtree = o3d.geometry.KDTreeFlann(cloud)\n",
    "        paves = np.array(seed)\n",
    "        while len(seed) > 0 :\n",
    "            seed_now = seed[0]\n",
    "            k, idx, _ = kdtree.search_radius_vector_3d(cloud.points[seed_now], tolerance)\n",
    "            if k == 1 :\n",
    "                continue\n",
    "            idx = np.array(idx)\n",
    "            idx = idx[np.isin(idx, paves, invert=True)]\n",
    "            idx = idx[np.isin(idx, no_paves, invert=True)]\n",
    "            paves = np.append(paves, idx)\n",
    "            seed = np.append(seed,idx)\n",
    "            seed = np.delete(seed,[0])\n",
    "        return paves\n",
    "\n",
    "        \n",
    "\n",
    "    def get_feature_vector(self):\n",
    "        ground_tree = o3d.geometry.KDTreeFlann(self.ground_o3d)\n",
    "        n = len(self.ground)\n",
    "        feature_vector = np.zeros((n,2))\n",
    "        for i in range(n):\n",
    "            [num, idx, _] = ground_tree.search_radius_vector_3d(self.ground_o3d.points[i], 0.2)\n",
    "            point_neighbour = self.ground[idx,:]\n",
    "            point_neighbour_max = point_neighbour[:,2].max(axis=0)\n",
    "            point_neighbour_min = point_neighbour[:,2].min(axis=0)\n",
    "            point_neighbour_h = point_neighbour_max - point_neighbour_min\n",
    "            point_neighbour_var = np.var(point_neighbour[:,2],axis=0)\n",
    "            feature_vector[i,:] = [point_neighbour_h,point_neighbour_var]\n",
    "        feature_vector = np.hstack((feature_vector,self.ground_nor.reshape(-1,3)))\n",
    "        return feature_vector\n",
    "\n"
   ]
  },
  {
   "cell_type": "code",
   "execution_count": 10,
   "metadata": {},
   "outputs": [],
   "source": [
    "path = 'SVM_model.pkl'"
   ]
  },
  {
   "cell_type": "code",
   "execution_count": 11,
   "metadata": {},
   "outputs": [],
   "source": [
    "svm = SVM(pcd,path)"
   ]
  },
  {
   "cell_type": "code",
   "execution_count": 9,
   "metadata": {},
   "outputs": [],
   "source": [
    "\n",
    "feature_vector = svm.feature_vector"
   ]
  },
  {
   "cell_type": "code",
   "execution_count": 12,
   "metadata": {},
   "outputs": [],
   "source": [
    "svm._process_data()"
   ]
  },
  {
   "cell_type": "code",
   "execution_count": 11,
   "metadata": {},
   "outputs": [],
   "source": [
    "paves = svm.no_side.select_by_index(pcd.paves)"
   ]
  },
  {
   "cell_type": "code",
   "execution_count": null,
   "metadata": {},
   "outputs": [],
   "source": [
    "o3d.visualization.draw_geometries([paves])"
   ]
  },
  {
   "cell_type": "code",
   "execution_count": null,
   "metadata": {},
   "outputs": [],
   "source": [
    "ground = pcd.ground\n",
    "ground_o3d = gpf.np_to_o3d(pcd.ground)"
   ]
  },
  {
   "cell_type": "code",
   "execution_count": null,
   "metadata": {},
   "outputs": [],
   "source": [
    "curvity = gpf.curvature_calculation(ground_o3d)"
   ]
  },
  {
   "cell_type": "code",
   "execution_count": null,
   "metadata": {},
   "outputs": [],
   "source": [
    "ground_nor = np.asarray(ground_o3d.normals)"
   ]
  },
  {
   "cell_type": "code",
   "execution_count": null,
   "metadata": {},
   "outputs": [],
   "source": [
    "ground_tree = o3d.geometry.KDTreeFlann(ground_o3d)\n",
    "n = len(ground)\n",
    "feature_vector = np.zeros((n,2))\n",
    "for i in range(n):\n",
    "    [num, idx, _] = ground_tree.search_radius_vector_3d(ground_o3d.points[i], 0.2)\n",
    "    point_neighbour = ground[idx,:]\n",
    "    point_neighbour_max = point_neighbour[:,2].max(axis=0)\n",
    "    point_neighbour_min = point_neighbour[:,2].min(axis=0)\n",
    "    point_neighbour_h = point_neighbour_max - point_neighbour_min\n",
    "    point_neighbour_var = np.var(point_neighbour[:,2],axis=0)\n",
    "    feature_vector[i,:] = [point_neighbour_h,point_neighbour_var]"
   ]
  },
  {
   "cell_type": "code",
   "execution_count": null,
   "metadata": {},
   "outputs": [],
   "source": [
    "feature_vector = np.hstack((feature_vector,ground_nor.reshape(-1,3)))\n",
    "# feature_vector = np.hstack((feature_vector,curvity.reshape(-1,1)))"
   ]
  },
  {
   "cell_type": "code",
   "execution_count": null,
   "metadata": {},
   "outputs": [],
   "source": [
    "colors[:,:] = [1,0,0]\n",
    "colors[pcd.no_paves] = [0,1,0]"
   ]
  },
  {
   "cell_type": "code",
   "execution_count": null,
   "metadata": {},
   "outputs": [],
   "source": [
    "ground_o3d.colors = o3d.utility.Vector3dVector(colors)\n",
    "o3d.visualization.draw_geometries([ground_o3d])"
   ]
  },
  {
   "cell_type": "code",
   "execution_count": null,
   "metadata": {},
   "outputs": [],
   "source": [
    "reg = ReGrowSegment(pcd)\n",
    "reg._process_data()"
   ]
  },
  {
   "cell_type": "code",
   "execution_count": null,
   "metadata": {},
   "outputs": [],
   "source": [
    "paves = ground_o3d.select_by_index(pcd.paves)\n",
    "o3d.visualization.draw_geometries([paves])"
   ]
  },
  {
   "cell_type": "code",
   "execution_count": null,
   "metadata": {},
   "outputs": [],
   "source": [
    "dps = DriPathSegment()\n",
    "dps.set_data(pcd)\n",
    "dps._process_data()"
   ]
  },
  {
   "cell_type": "code",
   "execution_count": null,
   "metadata": {},
   "outputs": [],
   "source": [
    "y = np.full(len(ground),False,dtype=bool)\n",
    "y[pcd.paves] = True"
   ]
  },
  {
   "cell_type": "code",
   "execution_count": null,
   "metadata": {},
   "outputs": [],
   "source": [
    "from sklearn import svm\n",
    "from sklearn.model_selection import train_test_split\n",
    "from sklearn.metrics import accuracy_score"
   ]
  },
  {
   "cell_type": "code",
   "execution_count": null,
   "metadata": {},
   "outputs": [],
   "source": [
    "import joblib\n",
    "clf = joblib.load('SVM_model.pkl')\n",
    "# joblib.dump(clf, 'SVM_model.pkl')"
   ]
  },
  {
   "cell_type": "code",
   "execution_count": null,
   "metadata": {},
   "outputs": [],
   "source": [
    "# 创建一个SVM模型，使用RBF核函数\n",
    "clf = svm.SVC(kernel='rbf', C=1, gamma=0.5)\n",
    "\n",
    "# 训练模型\n",
    "clf.fit(feature_vector, y)"
   ]
  },
  {
   "cell_type": "code",
   "execution_count": null,
   "metadata": {},
   "outputs": [],
   "source": [
    "y_pred = clf.predict(feature_vector[pcd.paves])\n",
    "y_pred_all = clf.predict(feature_vector)"
   ]
  },
  {
   "cell_type": "code",
   "execution_count": null,
   "metadata": {},
   "outputs": [],
   "source": [
    "accuracy = accuracy_score(y[pcd.paves], y_pred)\n",
    "\n",
    "# 输出准确率\n",
    "print(\"Accuracy: %0.2f\" % accuracy)\n",
    "\n",
    "accuracy_all = accuracy_score(y, y_pred_all)\n",
    "\n",
    "# 输出准确率\n",
    "print(\"Accuracy: %0.2f\" % accuracy_all)"
   ]
  },
  {
   "cell_type": "code",
   "execution_count": null,
   "metadata": {},
   "outputs": [],
   "source": [
    "index = np.array(range(len(pcd.ground)))\n",
    "index = index[y_pred_all]\n",
    "paves1 = ground_o3d.select_by_index(index)\n",
    "o3d.visualization.draw_geometries([paves1])"
   ]
  }
 ],
 "metadata": {
  "kernelspec": {
   "display_name": "Point_Datas",
   "language": "python",
   "name": "python3"
  },
  "language_info": {
   "codemirror_mode": {
    "name": "ipython",
    "version": 3
   },
   "file_extension": ".py",
   "mimetype": "text/x-python",
   "name": "python",
   "nbconvert_exporter": "python",
   "pygments_lexer": "ipython3",
   "version": "3.10.10"
  },
  "orig_nbformat": 4
 },
 "nbformat": 4,
 "nbformat_minor": 2
}
