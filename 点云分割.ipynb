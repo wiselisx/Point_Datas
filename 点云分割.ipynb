{
 "cells": [
  {
   "cell_type": "code",
   "execution_count": 1,
   "metadata": {},
   "outputs": [],
   "source": [
    "from plyfile import PlyData,PlyElement\n",
    "import numpy as np\n",
    "import sklearn\n",
    "from tqdm import tqdm"
   ]
  },
  {
   "cell_type": "code",
   "execution_count": 2,
   "metadata": {},
   "outputs": [
    {
     "ename": "SyntaxError",
     "evalue": "(unicode error) 'unicodeescape' codec can't decode bytes in position 16-17: truncated \\UXXXXXXXX escape (1333212813.py, line 1)",
     "output_type": "error",
     "traceback": [
      "\u001b[1;36m  Cell \u001b[1;32mIn[2], line 1\u001b[1;36m\u001b[0m\n\u001b[1;33m    data = PlyData.read('Point Cloud Data\\UrbanStreet.ply')\u001b[0m\n\u001b[1;37m                                                          ^\u001b[0m\n\u001b[1;31mSyntaxError\u001b[0m\u001b[1;31m:\u001b[0m (unicode error) 'unicodeescape' codec can't decode bytes in position 16-17: truncated \\UXXXXXXXX escape\n"
     ]
    }
   ],
   "source": [
    "data = PlyData.read('Point Cloud Data\\UrbanStreet.ply')\n",
    "data"
   ]
  },
  {
   "cell_type": "code",
   "execution_count": 5,
   "metadata": {},
   "outputs": [
    {
     "data": {
      "text/plain": [
       "array([(-673.7396 , -625.8346 , 42.388515, 3.,    3, 203000000),\n",
       "       (-673.82874, -625.7325 , 42.40692 , 5.,    3, 203000000),\n",
       "       (-671.8603 , -622.2785 , 36.97389 , 1., 1066, 302030600), ...,\n",
       "       (-769.46075, -715.39655, 28.407602, 2.,   10, 202030000),\n",
       "       (-769.67773, -715.75397, 28.404392, 2.,   10, 202030000),\n",
       "       (-769.5356 , -716.04004, 28.402191, 2.,   10, 202030000)],\n",
       "      dtype=[('x', '<f4'), ('y', '<f4'), ('z', '<f4'), ('reflectance', '<f4'), ('lable', '<u4'), ('class', '<u4')])"
      ]
     },
     "execution_count": 5,
     "metadata": {},
     "output_type": "execute_result"
    }
   ],
   "source": [
    "a = data.elements[0].data\n",
    "a"
   ]
  },
  {
   "cell_type": "code",
   "execution_count": 7,
   "metadata": {},
   "outputs": [
    {
     "data": {
      "text/plain": [
       "memmap([(  38.119606,   83.03686 , 54.89493 ,   50.315903,   90.94593 , 48.857998, 19058.16929473, 4.,  9, 203000000),\n",
       "        (  38.08773 ,   83.05253 , 54.882984,   50.31573 ,   90.945625, 48.857998, 19058.16934081, 3.,  9, 203000000),\n",
       "        (  38.12144 ,   83.117584, 54.833298,   50.315563,   90.94532 , 48.858   , 19058.16938689, 3.,  9, 203000000),\n",
       "        ...,\n",
       "        (-769.46075 , -715.39655 , 28.407602, -780.86316 , -731.52563 , 30.637367, 19219.63984801, 2., 10, 202030000),\n",
       "        (-769.67773 , -715.75397 , 28.404392, -780.86334 , -731.5256  , 30.637363, 19219.63989409, 2., 10, 202030000),\n",
       "        (-769.5356  , -716.04004 , 28.402191, -783.17163 , -730.09753 , 30.622599, 19220.33911357, 2., 10, 202030000)],\n",
       "       dtype=[('x', '<f4'), ('y', '<f4'), ('z', '<f4'), ('x_origin', '<f4'), ('y_origin', '<f4'), ('z_origin', '<f4'), ('GPS_time', '<f8'), ('reflectance', '<f4'), ('label', '<u4'), ('class', '<u4')])"
      ]
     },
     "execution_count": 7,
     "metadata": {},
     "output_type": "execute_result"
    }
   ],
   "source": [
    "data1 = PlyData.read('training_50_classes\\Lille1.ply')\n",
    "data1.elements[0].data"
   ]
  },
  {
   "cell_type": "code",
   "execution_count": 4,
   "metadata": {},
   "outputs": [],
   "source": [
    "xmax = a.max()\n",
    "xmin = a.min()\n",
    "data_p = data.elements[0].data[data.elements[0].data['x']<(xmax - xmin)/8 + xmin]"
   ]
  },
  {
   "cell_type": "code",
   "execution_count": 5,
   "metadata": {},
   "outputs": [
    {
     "name": "stderr",
     "output_type": "stream",
     "text": [
      "100%|██████████| 9578773/9578773 [00:36<00:00, 263352.59it/s]\n"
     ]
    }
   ],
   "source": [
    "vertex = [(i[0],i[1],i[2],i[7],i[8],i[9]) for i in tqdm(data_p)]"
   ]
  },
  {
   "cell_type": "code",
   "execution_count": 6,
   "metadata": {},
   "outputs": [],
   "source": [
    "vertex = np.array(vertex,dtype=[('x','f4'),('y','f4'),('z','f4'),('reflectance', 'f4'),('lable', 'u4'),('class', 'u4')])\n",
    "# reflectance = np.array([i[7] for i in tqdm(data_p)], dtype=[('reflectance', 'f4')])\n",
    "# label = np.array([i[8] for i in tqdm(data_p)], dtype=[('reflectance', 'u4')])\n",
    "# class1 = np.array([i[9] for i in tqdm(data_p)], dtype=[('class', 'u4')])\n"
   ]
  },
  {
   "cell_type": "code",
   "execution_count": 7,
   "metadata": {},
   "outputs": [],
   "source": [
    "el = PlyElement.describe(vertex,'vertex')\n",
    "# e2 = PlyElement.describe(reflectance, 'reflectance')\n",
    "# e3 = PlyElement.describe(label, 'label')\n",
    "# e4 = PlyElement.describe(class1, 'class')"
   ]
  },
  {
   "cell_type": "code",
   "execution_count": 8,
   "metadata": {},
   "outputs": [],
   "source": [
    "PlyData([el],text = True).write('Line11.ply')"
   ]
  },
  {
   "cell_type": "code",
   "execution_count": 9,
   "metadata": {},
   "outputs": [
    {
     "data": {
      "text/plain": [
       "PlyData((PlyElement('vertex', (PlyProperty('x', 'float'), PlyProperty('y', 'float'), PlyProperty('z', 'float'), PlyProperty('reflectance', 'float'), PlyProperty('lable', 'uint'), PlyProperty('class', 'uint')), count=9578773, comments=[]),), text=True, byte_order='=', comments=[], obj_info=[])"
      ]
     },
     "execution_count": 9,
     "metadata": {},
     "output_type": "execute_result"
    }
   ],
   "source": [
    "data1 =  PlyData.read('Line11.ply')\n",
    "data1"
   ]
  },
  {
   "cell_type": "code",
   "execution_count": 10,
   "metadata": {},
   "outputs": [
    {
     "data": {
      "text/plain": [
       "array([(-673.7396 , -625.8346 , 42.388515, 3.,    3, 203000000),\n",
       "       (-673.82874, -625.7325 , 42.40692 , 5.,    3, 203000000),\n",
       "       (-671.8603 , -622.2785 , 36.97389 , 1., 1066, 302030600), ...,\n",
       "       (-769.46075, -715.39655, 28.407602, 2.,   10, 202030000),\n",
       "       (-769.67773, -715.75397, 28.404392, 2.,   10, 202030000),\n",
       "       (-769.5356 , -716.04004, 28.402191, 2.,   10, 202030000)],\n",
       "      dtype=[('x', '<f4'), ('y', '<f4'), ('z', '<f4'), ('reflectance', '<f4'), ('lable', '<u4'), ('class', '<u4')])"
      ]
     },
     "execution_count": 10,
     "metadata": {},
     "output_type": "execute_result"
    }
   ],
   "source": [
    "data1.elements[0].data"
   ]
  },
  {
   "cell_type": "code",
   "execution_count": null,
   "metadata": {},
   "outputs": [],
   "source": []
  }
 ],
 "metadata": {
  "kernelspec": {
   "display_name": "Point_Datas",
   "language": "python",
   "name": "python3"
  },
  "language_info": {
   "codemirror_mode": {
    "name": "ipython",
    "version": 3
   },
   "file_extension": ".py",
   "mimetype": "text/x-python",
   "name": "python",
   "nbconvert_exporter": "python",
   "pygments_lexer": "ipython3",
   "version": "3.10.8 | packaged by conda-forge | (main, Nov 22 2022, 08:16:33) [MSC v.1929 64 bit (AMD64)]"
  },
  "orig_nbformat": 4,
  "vscode": {
   "interpreter": {
    "hash": "464648088c00e173b70600e06c85393a3edebab204038748415719ab367f57ba"
   }
  }
 },
 "nbformat": 4,
 "nbformat_minor": 2
}
