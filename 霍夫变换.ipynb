{
 "cells": [
  {
   "cell_type": "code",
   "execution_count": 8,
   "metadata": {},
   "outputs": [],
   "source": [
    "import cv2\n",
    "import numpy as np\n",
    "\n",
    "def canyEdgeDetector(image):\n",
    "    edged = cv2.Canny(image, 50, 150)\n",
    "    return edged\n",
    "\n",
    "def getROI(image):\n",
    "    height = image.shape[0]\n",
    "    width = image.shape[1]\n",
    "    # Defining Triangular ROI: The values will change as per your camera mounts\n",
    "    triangle = np.array([[(0, height) ,(0, height -350 ),(int(width/2) + 150,220),(width, height -130 ),(width, height)]])\n",
    "    # creating black image same as that of input image\n",
    "    black_image = np.zeros_like(image)\n",
    "    # Put the Triangular shape on top of our Black image to create a mask\n",
    "    mask = cv2.fillPoly(black_image, triangle, 255)\n",
    "    # applying mask on original image\n",
    "    masked_image = cv2.bitwise_and(image, mask)\n",
    "    return masked_image\n",
    "\n",
    "image = cv2.imread(\"OIP-C.jpg\") #Load Image\n",
    "\n",
    "gray = cv2.cvtColor(image, cv2.COLOR_BGR2GRAY)\n",
    "\n",
    "# 使用高斯模糊来降噪\n",
    "blur = cv2.GaussianBlur(gray, (5, 5), 0)\n",
    "# 进行边缘提取\n",
    "edged_image = canyEdgeDetector(blur)\n",
    "# 设置提取蒙版\n",
    "roi_image = getROI(edged_image)\n",
    "cv2.imshow(\"Result\", roi_image)\n",
    "cv2.waitKey(0)\n",
    "cv2.destroyAllWindows()\n",
    "# 进行霍夫变换算法提取轮廓\n",
    "lines = cv2.HoughLinesP(roi_image, rho=1, theta=np.pi/180, threshold=20, minLineLength=20, maxLineGap=300)\n",
    "# 绘制提取的直线\n",
    "for line in lines:\n",
    "    x1, y1, x2, y2 = line[0]\n",
    "    cv2.line(image, (x1, y1), (x2, y2), (0, 255, 0), 2)\n",
    "\n",
    "# 显示结果\n",
    "cv2.imshow(\"Result\", image)\n",
    "cv2.waitKey(0)\n",
    "cv2.destroyAllWindows()"
   ]
  }
 ],
 "metadata": {
  "kernelspec": {
   "display_name": "Point_Datas",
   "language": "python",
   "name": "python3"
  },
  "language_info": {
   "codemirror_mode": {
    "name": "ipython",
    "version": 3
   },
   "file_extension": ".py",
   "mimetype": "text/x-python",
   "name": "python",
   "nbconvert_exporter": "python",
   "pygments_lexer": "ipython3",
   "version": "3.10.8"
  },
  "orig_nbformat": 4
 },
 "nbformat": 4,
 "nbformat_minor": 2
}
